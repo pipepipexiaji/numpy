{
 "cells": [
  {
   "cell_type": "code",
   "execution_count": 1,
   "metadata": {
    "button": false,
    "collapsed": false,
    "deletable": true,
    "new_sheet": false,
    "run_control": {
     "read_only": false
    }
   },
   "outputs": [
    {
     "data": {
      "text/html": [
       "<style>\n",
       "\n",
       ".rendered_html\n",
       "{\n",
       "  color: #2C5494;\n",
       "  font-family: Ubuntu;\n",
       "  font-size: 100%;\n",
       "  line-height: 1.1;\n",
       "  margin: 0.5em 0;\n",
       "  }\n",
       "\n",
       ".title\n",
       "{\n",
       "  color: #498AF3;\n",
       "  font-size: 200%;\n",
       "  font-weight:bold;\n",
       "  line-height: 1.2;\n",
       "  margin: 10px 50px 10px;\n",
       "  }\n",
       "\n",
       ".subtitle\n",
       "{\n",
       "  color: #386BBC;\n",
       "  font-size: 150%;\n",
       "  font-weight:bold;\n",
       "  line-height: 1.2;\n",
       "  margin: 20px 50px 20px;\n",
       "  }\n",
       "\n",
       ".slide-header, p.slide-header\n",
       "{\n",
       "  color: #498AF3;\n",
       "  font-size: 2800%;\n",
       "  font-weight:bold;\n",
       "  margin: 0px 20px 10px;\n",
       "  page-break-before: always;\n",
       "  text-align: center;\n",
       "  }\n",
       "\n",
       ".rendered_html h1\n",
       "{\n",
       "  color: #498AF3;\n",
       "  line-height: 1.2;\n",
       "  margin: 0.15em 0em 0.5em;\n",
       "  page-break-before: always;\n",
       "  text-align: center;\n",
       "  }\n",
       "\n",
       "\n",
       ".rendered_html h2\n",
       "{\n",
       "  color: #386BBC;\n",
       "  line-height: 1.2;\n",
       "  margin: 1.1em 0em 0.5em;\n",
       "  }\n",
       "\n",
       ".rendered_html h3\n",
       "{\n",
       "  font-size: 100%;\n",
       "  line-height: 1.2;\n",
       "  margin: 1.1em 0em 0.5em;\n",
       "  }\n",
       "\n",
       ".rendered_html li\n",
       "{\n",
       "  line-height: 1.5;\n",
       "  }\n",
       "\n",
       ".input_prompt, .CodeMirror-lines, .output_area\n",
       "{\n",
       "  font-family: Consolas;\n",
       "  font-size: 100%;\n",
       "  }\n",
       "\n",
       ".gap-above\n",
       "{\n",
       "  padding-top: 200px;\n",
       "  }\n",
       "\n",
       ".gap01\n",
       "{\n",
       "  padding-top: 10px;\n",
       "  }\n",
       "\n",
       ".gap05\n",
       "{\n",
       "  padding-top: 50px;\n",
       "  }\n",
       "\n",
       ".gap1\n",
       "{\n",
       "  padding-top: 100px;\n",
       "  }\n",
       "\n",
       ".gap2\n",
       "{\n",
       "  padding-top: 200px;\n",
       "  }\n",
       "\n",
       ".gap3\n",
       "{\n",
       "  padding-top: 300px;\n",
       "  }\n",
       "\n",
       ".emph\n",
       "{\n",
       "  color: #386BBC;\n",
       "  }\n",
       "\n",
       ".warn\n",
       "{\n",
       "  color: red;\n",
       "  }\n",
       "\n",
       ".center\n",
       "{\n",
       "  text-align: center;\n",
       "  }\n",
       "\n",
       ".nb_link\n",
       "{\n",
       "    padding-bottom: 0.5em;\n",
       "}\n",
       "\n",
       "</style>\n"
      ],
      "text/plain": [
       "<IPython.core.display.HTML object>"
      ]
     },
     "metadata": {},
     "output_type": "display_data"
    }
   ],
   "source": [
    "%matplotlib inline\n",
    "%run talktools.py"
   ]
  },
  {
   "cell_type": "markdown",
   "metadata": {
    "button": false,
    "collapsed": false,
    "deletable": true,
    "inputHidden": false,
    "new_sheet": false,
    "outputHidden": false,
    "run_control": {
     "read_only": false
    }
   },
   "source": [
    "# Spatial Vectorization\n",
    "1. Referring to a situation where elements share the same computation but are in interaction with only a subgroup of other elements. eg: *the case for the game of life example*\n",
    "2. Higher difficulty when the subgroup is dynamic and needs to be updated at each iteration.\n",
    "3. Demo: the case for \"boids\" that simulate flocking behaviors, where particles interact mostly with local neighbours.\n",
    "<figure>\n",
    "  <img src=\"http://www.labri.fr/perso/nrougier/from-python-to-numpy/data/Fugle-cropped.jpg\" />\n",
    "  <figcaption>\n",
    "    Flocking birds are an example of self-organization in biology. Image by <a href=\"https://commons.wikimedia.org/wiki/File:Fugle,_ørnsø_073.jpg\"> Christoffer A Rasmussen</a>, 2012.\n",
    "  </figcaption>\n",
    "</figure>\n",
    "\n",
    "## [Boids](https://en.wikipedia.org/wiki/Boids)\n",
    "1. An abbreviation of \"bird-oid object\", which refers to a bird-like object. It simulates the flocking behavior of birds.\n",
    "2. An example of emergent behavior, which means the complexity of Boids arises from the interaction of individual agents adhering to a set of simple rules.\n",
    "3. Rules applied in the simplest Boids model:\n",
    "  - **separation**: steer to avoid crowding local flock-mates\n",
    "  - **alignment**: steer towards the average heading of local flock-mates\n",
    "  - **cohesion**: steer to move toward the average position (center of mass) of local flock-mates\n",
    "<figure>\n",
    "  <img src=\"http://www.labri.fr/perso/nrougier/from-python-to-numpy/data/boids.png\" />\n",
    "  <figcaption>\n",
    "      Boids are governed by a set of three local rules (separation, cohesion and alignment) that serve as computing velocity and acceleration.\n",
    "  </figcaption>\n",
    "</figure>\n",
    "\n",
    "## Python implementation\n",
    "Since each boid is an autonomous entity with several properties such as position and velocity, it seems natural to start by writing a Boid `class`:"
   ]
  },
  {
   "cell_type": "code",
   "execution_count": 7,
   "metadata": {
    "button": false,
    "collapsed": false,
    "deletable": true,
    "inputHidden": false,
    "new_sheet": false,
    "outputHidden": false,
    "run_control": {
     "read_only": false
    }
   },
   "outputs": [],
   "source": [
    "%matplotlib inline\n",
    "import math\n",
    "import random\n",
    "from planar import Vec2\n",
    "\n",
    "class Boid:\n",
    "    def __init__(self, x=0, y=0):\n",
    "        self.position=Vec2(x,y)\n",
    "        angle=random.uniform(0, 2*math.pi)\n",
    "        self.velocity=Vec2(math.cos(angle), math.sin(angle))\n",
    "        self.acceleration=Vec2(0, 0)"
   ]
  },
  {
   "cell_type": "markdown",
   "metadata": {
    "button": false,
    "deletable": true,
    "new_sheet": false,
    "run_control": {
     "read_only": false
    }
   },
   "source": [
    "The `vec2` object is a very simple class that handles all common vector operations with 2 components. Boid is a difficult case for regular Python because a boid has interaction with local neighbours. However, because boids are moving to find such local neighbours requires **computing at each time step** the distance to each and every other boid in order to sort those which are **in a given interaction radius**. The prototypical way of writing the three rules is thus something like:"
   ]
  },
  {
   "cell_type": "code",
   "execution_count": 8,
   "metadata": {
    "button": false,
    "collapsed": false,
    "deletable": true,
    "inputHidden": false,
    "new_sheet": false,
    "outputHidden": false,
    "run_control": {
     "read_only": false
    }
   },
   "outputs": [],
   "source": [
    "def separation(self, boids):\n",
    "    count=0\n",
    "    for other in boids:\n",
    "        d=(self.posion-other.position).length()\n",
    "        if 0<d<desired_separation:\n",
    "            count+=1\n",
    "            ...\n",
    "    if count > 0:\n",
    "        ...\n",
    "def alignment(self, boids): ...\n",
    "def cohesion(self, boids): ..."
   ]
  },
  {
   "cell_type": "markdown",
   "metadata": {
    "button": false,
    "deletable": true,
    "new_sheet": false,
    "run_control": {
     "read_only": false
    }
   },
   "source": [
    "To complete the picture, we can also create a `Flock` object:"
   ]
  },
  {
   "cell_type": "code",
   "execution_count": 9,
   "metadata": {
    "button": false,
    "collapsed": false,
    "deletable": true,
    "inputHidden": false,
    "new_sheet": false,
    "outputHidden": false,
    "run_control": {
     "read_only": false
    }
   },
   "outputs": [],
   "source": [
    "class Flock:\n",
    "    def __init__(self, count=150):\n",
    "        self.boids=[]\n",
    "        for i in range(count):\n",
    "            boid=Boid()\n",
    "            self.boids.append(boid)\n",
    "    def run(self):\n",
    "        for boid in self.boids:\n",
    "            bold.run(self.boids)"
   ]
  },
  {
   "cell_type": "markdown",
   "metadata": {
    "button": false,
    "deletable": true,
    "new_sheet": false,
    "run_control": {
     "read_only": false
    }
   },
   "source": [
    "This approach allows the positions of 50 boids until the computation time becomes too slow for a smooth animation. \n",
    "\n",
    "The main problem in the above `python` implementation: \n",
    "1. redundacy. The fact that the Euclidean distance is reflexive, that is,  $|x-y|=|y-x|$, is not exploited by this approach. In the above `python` implementation, each rule(`function`) computes $n^2$ distances while $\\frac{n^2}{2}$ would be sufficient;\n",
    "2. each rule re-computes every distance without caching the result for the other functions, which means the actual amount of the work done by the above approach is $3n^2$ distances instead of $\\frac{n^2}{2}$.\n",
    "## NumPy implementation\n",
    "The `Numpy` implementation will store all the boids into a `position` array and a `velocity` array:\n",
    "\n"
   ]
  },
  {
   "cell_type": "code",
   "execution_count": 5,
   "metadata": {
    "button": false,
    "collapsed": false,
    "deletable": true,
    "inputHidden": false,
    "new_sheet": false,
    "outputHidden": false,
    "run_control": {
     "read_only": false
    }
   },
   "outputs": [],
   "source": [
    "n=500\n",
    "velocity = np.zeros( (n, 2), dtype=np.float32 )\n",
    "position = np.zeros( (n, 2), dtype=np.float32 )"
   ]
  },
  {
   "cell_type": "markdown",
   "metadata": {
    "button": false,
    "deletable": true,
    "new_sheet": false,
    "run_control": {
     "read_only": false
    }
   },
   "source": [
    "The first step is to compute the local neighbourhood for all boids, and before that all paired distances need to be obtained:"
   ]
  },
  {
   "cell_type": "code",
   "execution_count": 7,
   "metadata": {
    "button": false,
    "collapsed": false,
    "deletable": true,
    "inputHidden": false,
    "new_sheet": false,
    "outputHidden": false,
    "run_control": {
     "read_only": false
    }
   },
   "outputs": [],
   "source": [
    "dx = np.subtract.outer(position[:, 0], position[:, 0])\n",
    "dy = np.subtract.outer(position[:, 1], position[:, 1])\n",
    "distance = np.hypot(dx, dy)"
   ]
  },
  {
   "cell_type": "markdown",
   "metadata": {
    "button": false,
    "deletable": true,
    "new_sheet": false,
    "run_control": {
     "read_only": false
    }
   },
   "source": [
    "We could have used the scipy [cdist](https://shrtm.nu/vO85) but we'll need the dx and dy arrays later. Once those have been computed, it is *faster* to use the [hypot](https://shrtm.nu/oZyU) method. Note that distance shape is `(n, n)` and each line relates to one boid, i.e. each line gives the distance to all other boids (including self).\n",
    "> **`numpy.hypot( x1, x2, /, out=None, *, where=True, casting='same_kind', order='K', dtype=None, subok=True[, signature, extobj] ) = <ufunc 'hypot'>`**\n",
    ">\n",
    ">   Given the “legs” of a right triangle, return its hypotenuse.\n",
    ">\n",
    ">  Equivalent to `sqrt(x1**2 + x2**2)`, element-wise. If *x1* or *x2* is scalar_like (i.e., unambiguously cast-able to a scalar type), it is broadcast for use with each element of the other argument. (See Examples)\n",
    ">\n",
    "> --------------------------------------------------------------------------------------------------------------------------\n",
    "> **`scipy.spatial.distance.cdist(XA, XB, metric='euclidean', *args, **kwargs)`**\n",
    "> \n",
    "> Computes distance between each pair of the two collections of inputs.\n",
    "\n",
    "Now compute the local neighborhood for each of the three rules, taking advantage of the fact that we can mix them together. We can actually compute a mask for distances that are strictly positive (i.e. have no self-interaction) and multiply it with other distance masks.\n"
   ]
  },
  {
   "cell_type": "code",
   "execution_count": 8,
   "metadata": {
    "button": false,
    "collapsed": false,
    "deletable": true,
    "inputHidden": false,
    "new_sheet": false,
    "outputHidden": false,
    "run_control": {
     "read_only": false
    }
   },
   "outputs": [],
   "source": [
    "mask_0 = (distance > 0)\n",
    "mask_1 = (distance < 25)\n",
    "mask_2 = (distance < 50)\n",
    "mask_1 *= mask_0\n",
    "mask_2 *= mask_0\n",
    "mask_3 = mask_2"
   ]
  },
  {
   "cell_type": "markdown",
   "metadata": {
    "button": false,
    "deletable": true,
    "new_sheet": false,
    "run_control": {
     "read_only": false
    }
   },
   "source": [
    "Then, we compute the number of neighbours within the given radius and we ensure it is at least 1 to avoid division by zero."
   ]
  },
  {
   "cell_type": "code",
   "execution_count": 9,
   "metadata": {
    "button": false,
    "collapsed": false,
    "deletable": true,
    "inputHidden": false,
    "new_sheet": false,
    "outputHidden": false,
    "run_control": {
     "read_only": false
    }
   },
   "outputs": [],
   "source": [
    "mask_1_count = np.maximum(mask_1.sum(axis=1), 1)\n",
    "mask_2_count = np.maximum(mask_2.sum(axis=1), 1)\n",
    "mask_3_count = mask_2_count"
   ]
  },
  {
   "cell_type": "markdown",
   "metadata": {
    "button": false,
    "deletable": true,
    "new_sheet": false,
    "run_control": {
     "read_only": false
    }
   },
   "source": [
    "Now write the three rules\n",
    "\n",
    "1. Alignment"
   ]
  },
  {
   "cell_type": "code",
   "execution_count": null,
   "metadata": {
    "button": false,
    "collapsed": false,
    "deletable": true,
    "inputHidden": false,
    "new_sheet": false,
    "outputHidden": false,
    "run_control": {
     "read_only": false
    }
   },
   "outputs": [],
   "source": [
    "# Compute the average velocity of local neighbours\n",
    "target = np.dot(mask, velocity)/count.reshape(n, 1)\n",
    "\n",
    "# Normalize the result\n",
    "norm = np.sqrt((target*target).sum(axis=1)).reshape(n, 1)\n",
    "target *= np.divide(target, norm, out=target, where=norm != 0)\n",
    "\n",
    "# Alignment at constant speed\n",
    "target *= max_velocity\n",
    "\n",
    "# Compute the resulting steering\n",
    "alignment = target - velocity"
   ]
  },
  {
   "cell_type": "markdown",
   "metadata": {
    "button": false,
    "deletable": true,
    "new_sheet": false,
    "run_control": {
     "read_only": false
    }
   },
   "source": [
    "2. Cohesion"
   ]
  },
  {
   "cell_type": "code",
   "execution_count": null,
   "metadata": {
    "button": false,
    "collapsed": false,
    "deletable": true,
    "inputHidden": false,
    "new_sheet": false,
    "outputHidden": false,
    "run_control": {
     "read_only": false
    }
   },
   "outputs": [],
   "source": [
    "# Compute the gravity center of local neighbours\n",
    "center = np.dot(mask, position)/count.reshape(n, 1)\n",
    "\n",
    "# Compute direction toward the center\n",
    "target = center - position\n",
    "\n",
    "# Normalize the result\n",
    "norm = np.sqrt((target*target).sum(axis=1)).reshape(n, 1)\n",
    "target *= np.divide(target, norm, out=target, where=norm != 0)\n",
    "\n",
    "# Cohesion at constant speed (max_velocity)\n",
    "target *= max_velocity\n",
    "\n",
    "# Compute the resulting steering\n",
    "cohesion = target - velocity"
   ]
  },
  {
   "cell_type": "markdown",
   "metadata": {
    "button": false,
    "deletable": true,
    "new_sheet": false,
    "run_control": {
     "read_only": false
    }
   },
   "source": [
    "3. Separation"
   ]
  },
  {
   "cell_type": "code",
   "execution_count": null,
   "metadata": {
    "button": false,
    "collapsed": false,
    "deletable": true,
    "inputHidden": false,
    "new_sheet": false,
    "outputHidden": false,
    "run_control": {
     "read_only": false
    }
   },
   "outputs": [],
   "source": [
    "# Compute the repulsion force from local neighbours\n",
    "repulsion = np.dstack((dx, dy))\n",
    "\n",
    "# Force is inversely proportional to the distance\n",
    "repulsion = np.divide(repulsion, distance.reshape(n, n, 1)**2, out=repulsion,\n",
    "                      where=distance.reshape(n, n, 1) != 0)\n",
    "\n",
    "# Compute direction away from others\n",
    "target = (repulsion*mask.reshape(n, n, 1)).sum(axis=1)/count.reshape(n, 1)\n",
    "\n",
    "# Normalize the result\n",
    "norm = np.sqrt((target*target).sum(axis=1)).reshape(n, 1)\n",
    "target *= np.divide(target, norm, out=target, where=norm != 0)\n",
    "\n",
    "# Separation at constant speed (max_velocity)\n",
    "target *= max_velocity\n",
    "\n",
    "# Compute the resulting steering\n",
    "separation = target - velocity"
   ]
  },
  {
   "cell_type": "markdown",
   "metadata": {
    "button": false,
    "deletable": true,
    "new_sheet": false,
    "run_control": {
     "read_only": false
    }
   },
   "source": [
    "All three resulting steerings (separation, alignment & cohesion) need to be limited in magnitude.  Combination of these rules is straightforward as well as the resulting update of velocity and position:"
   ]
  },
  {
   "cell_type": "code",
   "execution_count": null,
   "metadata": {
    "button": false,
    "collapsed": false,
    "deletable": true,
    "inputHidden": false,
    "new_sheet": false,
    "outputHidden": false,
    "run_control": {
     "read_only": false
    }
   },
   "outputs": [],
   "source": [
    "acceleration = 1.5 * separation + alignment + cohesion\n",
    "velocity += acceleration\n",
    "position += velocity"
   ]
  },
  {
   "cell_type": "markdown",
   "metadata": {
    "button": false,
    "deletable": true,
    "new_sheet": false,
    "run_control": {
     "read_only": false
    }
   },
   "source": [
    "Visualization of the final result using a custom oriented scatter plot."
   ]
  },
  {
   "cell_type": "code",
   "execution_count": null,
   "metadata": {
    "button": false,
    "collapsed": false,
    "deletable": true,
    "inputHidden": false,
    "new_sheet": false,
    "outputHidden": false,
    "run_control": {
     "read_only": false
    }
   },
   "outputs": [],
   "source": [
    "# %load boid_python.py\n",
    "import math\n",
    "import random\n",
    "\n",
    "from vec2 import vec2\n",
    "\n",
    "\n",
    "class Boid:\n",
    "    def __init__(self, x, y):\n",
    "        self.acceleration = vec2(0, 0)\n",
    "        angle = random.uniform(0, 2*math.pi)\n",
    "        self.velocity = vec2(math.cos(angle), math.sin(angle))\n",
    "        self.position = vec2(x, y)\n",
    "        self.r = 2.0\n",
    "        self.max_velocity = 2\n",
    "        self.max_acceleration = 0.03\n",
    "\n",
    "    def seek(self, target):\n",
    "        desired = target - self.position\n",
    "        desired = desired.normalized()\n",
    "        desired *= self.max_velocity\n",
    "        steer = desired - self.velocity\n",
    "        steer = steer.limited(self.max_acceleration)\n",
    "        return steer\n",
    "\n",
    "    # Wraparound\n",
    "    def borders(self):\n",
    "        x, y = self.position\n",
    "        x = (x+self.width) % self.width\n",
    "        y = (y+self.height) % self.height\n",
    "        self.position = vec2(x,y)\n",
    "\n",
    "    # Separation\n",
    "    # Method checks for nearby boids and steers away\n",
    "    def separate(self, boids):\n",
    "        desired_separation = 25.0\n",
    "        steer = vec2(0, 0)\n",
    "        count = 0\n",
    "\n",
    "        # For every boid in the system, check if it's too close\n",
    "        for other in boids:\n",
    "            d = (self.position - other.position).length()\n",
    "            # If the distance is greater than 0 and less than an arbitrary\n",
    "            # amount (0 when you are yourself)\n",
    "            if 0 < d < desired_separation:\n",
    "                # Calculate vector pointing away from neighbor\n",
    "                diff = self.position - other.position\n",
    "                diff = diff.normalized()\n",
    "                steer += diff/d  # Weight by distance\n",
    "                count += 1       # Keep track of how many\n",
    "\n",
    "        # Average - divide by how many\n",
    "        if count > 0:\n",
    "            steer /= count\n",
    "\n",
    "        # As long as the vector is greater than 0\n",
    "        if steer.length() > 0:\n",
    "            # Implement Reynolds: Steering = Desired - Velocity\n",
    "            steer = steer.normalized()\n",
    "            steer *= self.max_velocity\n",
    "            steer -= self.velocity\n",
    "            steer = steer.limited(self.max_acceleration)\n",
    "\n",
    "        return steer\n",
    "\n",
    "    # Alignment\n",
    "    # For every nearby boid in the system, calculate the average velocity\n",
    "    def align(self, boids):\n",
    "        neighbor_dist = 50\n",
    "        sum = vec2(0, 0)\n",
    "        count = 0\n",
    "        for other in boids:\n",
    "            d = (self.position - other.position).length()\n",
    "            if 0 < d < neighbor_dist:\n",
    "                sum += other.velocity\n",
    "                count += 1\n",
    "\n",
    "        if count > 0:\n",
    "            sum /= count\n",
    "            # Implement Reynolds: Steering = Desired - Velocity\n",
    "            sum = sum.normalized()\n",
    "            sum *= self.max_velocity\n",
    "            steer = sum - self.velocity\n",
    "            steer = steer.limited(self.max_acceleration)\n",
    "            return steer\n",
    "        else:\n",
    "            return vec2(0, 0)\n",
    "\n",
    "    # Cohesion\n",
    "    # For the average position (i.e. center) of all nearby boids, calculate\n",
    "    # steering vector towards that position\n",
    "    def cohesion(self, boids):\n",
    "        neighbor_dist = 50\n",
    "        sum = vec2(0, 0)  # Start with empty vector to accumulate all positions\n",
    "        count = 0\n",
    "        for other in boids:\n",
    "            d = (self.position - other.position).length()\n",
    "            if 0 < d < neighbor_dist:\n",
    "                sum += other.position  # Add position\n",
    "                count += 1\n",
    "        if count > 0:\n",
    "            sum /= count\n",
    "            return self.seek(sum)\n",
    "        else:\n",
    "            return vec2(0, 0)\n",
    "\n",
    "    def flock(self, boids):\n",
    "        sep = self.separate(boids)  # Separation\n",
    "        ali = self.align(boids)  # Alignment\n",
    "        coh = self.cohesion(boids)  # Cohesion\n",
    "\n",
    "        # Arbitrarily weight these forces\n",
    "        sep *= 1.5\n",
    "        ali *= 1.0\n",
    "        coh *= 1.0\n",
    "\n",
    "        # Add the force vectors to acceleration\n",
    "        self.acceleration += sep\n",
    "        self.acceleration += ali\n",
    "        self.acceleration += coh\n",
    "\n",
    "    def update(self):\n",
    "        # Update velocity\n",
    "        self.velocity += self.acceleration\n",
    "        # Limit speed\n",
    "        self.velocity = self.velocity.limited(self.max_velocity)\n",
    "        self.position += self.velocity\n",
    "        # Reset acceleration to 0 each cycle\n",
    "        self.acceleration = vec2(0, 0)\n",
    "\n",
    "    def run(self, boids):\n",
    "        self.flock(boids)\n",
    "        self.update()\n",
    "        self.borders()\n",
    "\n",
    "\n",
    "class Flock:\n",
    "    def __init__(self, count=150, width=640, height=360):\n",
    "        self.width = width\n",
    "        self.height = height\n",
    "        self.boids = []\n",
    "        for i in range(count):\n",
    "            boid = Boid(width/2, height/2)\n",
    "            boid.width = width\n",
    "            boid.height = height\n",
    "            self.boids.append(boid)\n",
    "\n",
    "    def run(self):\n",
    "        for boid in self.boids:\n",
    "            # Passing the entire list of boids to each boid individually\n",
    "            boid.run(self.boids)\n",
    "\n",
    "    def cohesion(self, boids):\n",
    "        P = np.zeros((len(boids),2))\n",
    "        for i, boid in enumerate(self.boids):\n",
    "            P[i] = boid.cohesion(self.boids)\n",
    "        return P\n",
    "\n",
    "\n",
    "\n",
    "\n",
    "import numpy as np\n",
    "import matplotlib.pyplot as plt\n",
    "from matplotlib.animation import FuncAnimation\n",
    "\n",
    "n=50\n",
    "flock = Flock(n)\n",
    "P = np.zeros((n,2))\n",
    "\n",
    "def update(*args):\n",
    "    flock.run()\n",
    "    for i,boid in enumerate(flock.boids):\n",
    "        P[i] = boid.position\n",
    "    scatter.set_offsets(P)\n",
    "\n",
    "fig = plt.figure(figsize=(8, 5))\n",
    "ax = fig.add_axes([0.0, 0.0, 1.0, 1.0], frameon=True)\n",
    "scatter = ax.scatter(P[:,0], P[:,1],\n",
    "                     s=30, facecolor=\"red\", edgecolor=\"None\", alpha=0.5)\n",
    "\n",
    "animation = FuncAnimation(fig, update, interval=10)\n",
    "ax.set_xlim(0,640)\n",
    "ax.set_ylim(0,360)\n",
    "ax.set_xticks([])\n",
    "ax.set_yticks([])\n",
    "plt.show()\n"
   ]
  },
  {
   "cell_type": "code",
   "execution_count": null,
   "metadata": {
    "button": false,
    "collapsed": false,
    "deletable": true,
    "inputHidden": false,
    "new_sheet": false,
    "outputHidden": false,
    "run_control": {
     "read_only": false
    }
   },
   "outputs": [],
   "source": []
  }
 ],
 "metadata": {
  "kernel_info": {
   "name": "python3"
  },
  "kernelspec": {
   "display_name": "Python 3",
   "language": "python",
   "name": "python3"
  },
  "language_info": {
   "codemirror_mode": {
    "name": "ipython",
    "version": 2
   },
   "file_extension": ".py",
   "mimetype": "text/x-python",
   "name": "python",
   "nbconvert_exporter": "python",
   "pygments_lexer": "ipython2",
   "version": "2.7.10"
  },
  "nteract": {
   "version": "0.5.5"
  }
 },
 "nbformat": 4,
 "nbformat_minor": 4
}
