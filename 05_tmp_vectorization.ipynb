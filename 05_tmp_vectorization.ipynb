{
 "cells": [
  {
   "cell_type": "code",
   "execution_count": 17,
   "metadata": {
    "button": false,
    "collapsed": false,
    "deletable": true,
    "inputHidden": false,
    "new_sheet": false,
    "outputHidden": false,
    "run_control": {
     "read_only": false
    }
   },
   "outputs": [],
   "source": [
    "from IPython.display import HTML, display\n",
    "%matplotlib inline"
   ]
  },
  {
   "cell_type": "markdown",
   "metadata": {
    "button": false,
    "deletable": true,
    "new_sheet": false,
    "run_control": {
     "read_only": false
    }
   },
   "source": [
    "# Temporal vectorization\n",
    "The Mandelbrot set is the set of complex numbers c for which the function $f_c(z) = z^2 + c$ does not diverge when iterated from z = 0, i.e., for which the sequence $f_c(0)$, $f_c(f_c(0))$, etc., remains bounded in absolute value. It is very easy to compute, but it can take a very long time because you need to ensure a given number does not diverge. This is generally done by iterating the computation up to a maximum number of iterations, after which, if the number is still within some bounds, it is considered non-divergent. Of course, the more iterations you do, the more precision you get.\n",
    "\n",
    "<figure>\n",
    "<img src=http://www.labri.fr/perso/nrougier/from-python-to-numpy/data/Fractal-Broccoli-cropped.jpg>\n",
    "    <figcaption>Romanesco broccoli, showing self-similar form approximating a natural fractal. Image by <a href=https://commons.wikimedia.org/wiki/File:Fractal_Broccoli.jpg>Jon Sullivan</a>, 2004.</figcaption>\n",
    "<figure>\n"
   ]
  },
  {
   "cell_type": "markdown",
   "metadata": {
    "button": false,
    "deletable": true,
    "new_sheet": false,
    "run_control": {
     "read_only": false
    }
   },
   "source": [
    "## Python implementation"
   ]
  },
  {
   "cell_type": "code",
   "execution_count": null,
   "metadata": {
    "button": false,
    "collapsed": false,
    "deletable": true,
    "inputHidden": false,
    "new_sheet": false,
    "outputHidden": false,
    "run_control": {
     "read_only": false
    }
   },
   "outputs": [],
   "source": [
    "import math\n",
    "\n",
    "def mandelbrot_python(xmin, xmax, ymin, ymax, xn, yn, maxiter, horizon=2.0):\n",
    "    def mandelbrot(z, maxiter):\n",
    "        c=z\n",
    "        for n in range(maxiter):\n",
    "            if abs(z)>horizon: return n\n",
    "            z=z*z+c\n",
    "        return maxiter\n",
    "    r1 =[xmin+i*(xmax-xmin)/xn for i in range(xn)]\n",
    "    r2 = [ymin+i*(ymax-ymin)/yn for i in range(yn)]\n",
    "    return [mandelbrot(complex(r, i), maxiter) for r in r1 for i in r2]"
   ]
  },
  {
   "cell_type": "markdown",
   "metadata": {
    "button": false,
    "collapsed": false,
    "deletable": true,
    "inputHidden": false,
    "new_sheet": false,
    "outputHidden": false,
    "run_control": {
     "read_only": false
    }
   },
   "source": [
    "The interesting (and slow) part of this code is the `mandelbrot` function that actually computes the sequence $f_c(f_c(f_c...)))$. The vectorization of such code is not totally straightforward because the internal `return` implies a differential processing of the element. Once it has diverged, we don't need to iterate any more and we can safely return the iteration count at divergence."
   ]
  },
  {
   "cell_type": "markdown",
   "metadata": {
    "button": false,
    "deletable": true,
    "new_sheet": false,
    "run_control": {
     "read_only": false
    }
   },
   "source": [
    "## NumPy implementation\n",
    "The trick is to search at each iteration values that have not yet diverged and update relevant information for these values and only these values. Because we start from Z = 0, we know that each value will be updated at least once (when they're equal to 0, they have not yet diverged) and will stop being updated as soon as they've diverged. To do that, we'll use NumPy fancy indexing with the `less(x1,x2)` function that `return` the truth value of (x1 < x2) element-wise."
   ]
  },
  {
   "cell_type": "code",
   "execution_count": 11,
   "metadata": {
    "button": false,
    "collapsed": false,
    "deletable": true,
    "inputHidden": false,
    "new_sheet": false,
    "outputHidden": false,
    "run_control": {
     "read_only": false
    }
   },
   "outputs": [],
   "source": [
    "import numpy as np\n",
    "def mandelbrot_numpy(xmin, xmax, ymin, ymax, xn, yn, maxiter, horizon=2.0):\n",
    "    X = np.linspace(xmin, xmax, xn, dtype=np.float32)\n",
    "    Y = np.linspace(ymin, ymax, yn, dtype=np.float32)\n",
    "    C = X + Y[:,None]*1j\n",
    "    N = np.zeros(C.shape, dtype=int)\n",
    "    Z = np.zeros(C.shape, np.complex64)\n",
    "    for n in range(maxiter):\n",
    "        I = np.less(abs(Z), horizon)\n",
    "        N[I] = n\n",
    "        Z[I] = Z[I]**2 + C[I]\n",
    "    N[N == maxiter-1] = 0\n",
    "    return Z, N"
   ]
  },
  {
   "cell_type": "markdown",
   "metadata": {
    "button": false,
    "collapsed": false,
    "deletable": true,
    "inputHidden": false,
    "new_sheet": false,
    "outputHidden": false,
    "run_control": {
     "read_only": false
    }
   },
   "source": [
    "## Faster NumPy implementation\n",
    "The gain is roughly a 5x factor, not as much as we could have expected. Part of the problem is that the `np.less` function implies xn × yn tests at every iteration while we know that some values have already diverged. Even if these tests are performed at the C level (through NumPy), the cost is nonetheless significant. Another approach proposed by [Dan Goodman][] is to work on a dynamic array at each iteration that stores only the points which have not yet diverged. It requires more lines but the result is faster and leads to a 10x factor speed improvement compared to the Python version.\n",
    "\n",
    "[Dan Goodman]: https://thesamovar.wordpress.com"
   ]
  },
  {
   "cell_type": "code",
   "execution_count": 12,
   "metadata": {
    "button": false,
    "collapsed": false,
    "deletable": true,
    "inputHidden": false,
    "new_sheet": false,
    "outputHidden": false,
    "run_control": {
     "read_only": false
    }
   },
   "outputs": [],
   "source": [
    "def mandelbrot_numpy_2(xmin, xmax, ymin, ymax, xn, yn, itermax, horizon=2.0):\n",
    "    Xi, Yi = np.mgrid[0:xn, 0:yn]\n",
    "    Xi, Yi = Xi.astype(np.uint32), Yi.astype(np.uint32)\n",
    "    X = np.linspace(xmin, xmax, xn, dtype=np.float32)[Xi]\n",
    "    Y = np.linspace(ymin, ymax, yn, dtype=np.float32)[Yi]\n",
    "    C = X + Y*1j\n",
    "    N_ = np.zeros(C.shape, dtype=np.uint32)\n",
    "    Z_ = np.zeros(C.shape, dtype=np.complex64)\n",
    "    Xi.shape = Yi.shape = C.shape = xn*yn\n",
    "\n",
    "    Z = np.zeros(C.shape, np.complex64)\n",
    "    for i in range(itermax):\n",
    "        if not len(Z): break\n",
    "\n",
    "        # Compute for relevant points only\n",
    "        np.multiply(Z, Z, Z)\n",
    "        np.add(Z, C, Z)\n",
    "\n",
    "        # Failed convergence\n",
    "        I = abs(Z) > horizon\n",
    "        N_[Xi[I], Yi[I]] = i+1\n",
    "        Z_[Xi[I], Yi[I]] = Z[I]\n",
    "\n",
    "        # Keep going with those who have not diverged yet\n",
    "        np.negative(I,I)\n",
    "        Z = Z[I]\n",
    "        Xi, Yi = Xi[I], Yi[I]\n",
    "        C = C[I]\n",
    "    return Z_.T, N_.T"
   ]
  },
  {
   "cell_type": "markdown",
   "metadata": {
    "button": false,
    "collapsed": false,
    "deletable": true,
    "inputHidden": false,
    "new_sheet": false,
    "outputHidden": false,
    "run_control": {
     "read_only": false
    }
   },
   "source": [
    "## Visualization\n",
    "In order to visualize our results, we could directly display the N array using the matplotlib `imshow` command, but this would result in a \"banded\" image that is a known consequence of *the escape count algorithm* that we've been using. Such banding can be eliminated by using a fractional escape count. This can be done by measuring how far the iterated point landed outside of the escape cutoff. See the reference below about the renormalization of the escape count. Here is a picture of the result where we use recount normalization, and added a power normalized color map (gamma=0.3) as well as light shading.\n",
    "\n",
    "<figure>\n",
    "<img src=http://www.labri.fr/perso/nrougier/from-python-to-numpy/data/mandelbrot.png>\n",
    "<figcaption>The Mandelbrot as rendered by matplotlib using recount normalization, power normalized color map (gamma=0.3) and light shading.</figcaption>\n",
    "</figure>\n"
   ]
  },
  {
   "cell_type": "code",
   "execution_count": 32,
   "metadata": {
    "button": false,
    "collapsed": false,
    "deletable": true,
    "new_sheet": false,
    "run_control": {
     "read_only": false
    }
   },
   "outputs": [
    {
     "name": "stderr",
     "output_type": "stream",
     "text": [
      "/usr/local/Cellar/pyenv/1.2.0/versions/miniconda3-latest/lib/python3.6/site-packages/ipykernel_launcher.py:28: DeprecationWarning: `imread` is deprecated!\n",
      "`imread` is deprecated in SciPy 1.0.0, and will be removed in 1.2.0.\n",
      "Use ``imageio.imread`` instead.\n"
     ]
    },
    {
     "name": "stdout",
     "output_type": "stream",
     "text": [
      "1.24032513564\n"
     ]
    },
    {
     "data": {
      "image/png": "[encoded data removed]",
      "text/plain": [
       "<matplotlib.figure.Figure at 0x1824a98710>"
      ]
     },
     "metadata": {},
     "output_type": "display_data"
    }
   ],
   "source": [
    "#%%writefile frac_dimension.py\n",
    "import sys, os\n",
    "import numpy as np\n",
    "\n",
    "def frac_dimension(z, threshold=0.9):\n",
    "    def pointcount(z,k):\n",
    "        s=np.add.reduceat(np.add.reduceat(\n",
    "            z, np.arange(0, z.shape[0], k), axis=0 ),\n",
    "                         np.arange(0, z.shape[1], k), axis=1)\n",
    "        return len(np.where( ( s>0 ) & (s<k*k) )[0])\n",
    "    z=(z<threshold)\n",
    "    p = min(z.shape)\n",
    "    n=2**np.floor(np.log(p)/np.log(2))\n",
    "    n=int(np.log(n)/np.log(2))\n",
    "    sizes=2**np.arange(n, 1, -1)\n",
    "    counts = []\n",
    "    for size in sizes:\n",
    "        counts.append(pointcount(z, size))\n",
    "    coeffs = np.polyfit(np.log(sizes), np.log(counts), 1)\n",
    "    return -coeffs[0]\n",
    "\n",
    "if __name__=='__main__':\n",
    "    from scipy import misc\n",
    "    import matplotlib.pyplot as plt\n",
    "    import matplotlib.patches as patches\n",
    "    \n",
    "    fname = 'Great-Britain.png'\n",
    "    z=1.0 - misc.imread(fname)/255\n",
    "    \n",
    "    print(frac_dimension(z, threshold=0.25))\n",
    "    \n",
    "    sizes = 128, 64, 32\n",
    "    xmin, xmax = 0, z.shape[1]\n",
    "    ymin, ymax = 0, z.shape[0]\n",
    "    fig = plt.figure(figsize=(10, 5))\n",
    "\n",
    "    for i, size in enumerate(sizes):\n",
    "        ax = plt.subplot(1, len(sizes), i+1, frameon=False)\n",
    "        ax.imshow(1-z, plt.cm.gray, interpolation=\"bicubic\", vmin=0, vmax=1,\n",
    "                  extent=[xmin, xmax, ymin, ymax], origin=\"upper\")\n",
    "        ax.set_xticks([])\n",
    "        ax.set_yticks([])\n",
    "        for y in range(z.shape[0]//size+1):\n",
    "            for x in range(z.shape[1]//size+1):\n",
    "                s = (z[y*size:(y+1)*size, x*size:(x+1)*size] > 0.25).sum()\n",
    "                if s > 0 and s < size*size:\n",
    "                    rect = patches.Rectangle(\n",
    "                        (x*size, z.shape[0]-1-(y+1)*size),\n",
    "                        width=size, height=size,\n",
    "                        linewidth=.5, edgecolor='.25',\n",
    "                        facecolor='.75', alpha=.5)\n",
    "                    ax.add_patch(rect)\n",
    "\n",
    "    plt.tight_layout()\n",
    "    plt.savefig(\"fractal-dimension.png\")\n",
    "    plt.show()\n"
   ]
  },
  {
   "cell_type": "markdown",
   "metadata": {
    "button": false,
    "deletable": true,
    "new_sheet": false,
    "run_control": {
     "read_only": false
    }
   },
   "source": []
  }
 ],
 "metadata": {
  "kernel_info": {
   "name": "python3"
  },
  "kernelspec": {
   "display_name": "Python 3",
   "language": "python",
   "name": "python3"
  },
  "language_info": {
   "codemirror_mode": {
    "name": "ipython",
    "version": 2
   },
   "file_extension": ".py",
   "mimetype": "text/x-python",
   "name": "python",
   "nbconvert_exporter": "python",
   "pygments_lexer": "ipython2",
   "version": "2.7.10"
  },
  "nteract": {
   "version": "0.5.4"
  }
 },
 "nbformat": 4,
 "nbformat_minor": 4
}
