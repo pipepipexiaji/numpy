{
 "cells": [
  {
   "cell_type": "markdown",
   "metadata": {
    "button": false,
    "deletable": true,
    "new_sheet": false,
    "run_control": {
     "read_only": false
    }
   },
   "source": [
    "# Code vectorization\n",
    "## 1. Introducion"
   ]
  },
  {
   "cell_type": "code",
   "execution_count": 1,
   "metadata": {
    "button": false,
    "collapsed": false,
    "deletable": true,
    "inputHidden": false,
    "new_sheet": false,
    "outputHidden": false,
    "run_control": {
     "read_only": false
    }
   },
   "outputs": [
    {
     "data": {
      "text/html": [
       "<style>\n",
       "\n",
       ".rendered_html\n",
       "{\n",
       "  color: #2C5494;\n",
       "  font-family: Ubuntu;\n",
       "  font-size: 100%;\n",
       "  line-height: 1.1;\n",
       "  margin: 0.5em 0;\n",
       "  }\n",
       "\n",
       ".title\n",
       "{\n",
       "  color: #498AF3;\n",
       "  font-size: 200%;\n",
       "  font-weight:bold;\n",
       "  line-height: 1.2;\n",
       "  margin: 10px 50px 10px;\n",
       "  }\n",
       "\n",
       ".subtitle\n",
       "{\n",
       "  color: #386BBC;\n",
       "  font-size: 150%;\n",
       "  font-weight:bold;\n",
       "  line-height: 1.2;\n",
       "  margin: 20px 50px 20px;\n",
       "  }\n",
       "\n",
       ".slide-header, p.slide-header\n",
       "{\n",
       "  color: #498AF3;\n",
       "  font-size: 2800%;\n",
       "  font-weight:bold;\n",
       "  margin: 0px 20px 10px;\n",
       "  page-break-before: always;\n",
       "  text-align: center;\n",
       "  }\n",
       "\n",
       ".rendered_html h1\n",
       "{\n",
       "  color: #498AF3;\n",
       "  line-height: 1.2;\n",
       "  margin: 0.15em 0em 0.5em;\n",
       "  page-break-before: always;\n",
       "  text-align: center;\n",
       "  }\n",
       "\n",
       "\n",
       ".rendered_html h2\n",
       "{\n",
       "  color: #386BBC;\n",
       "  line-height: 1.2;\n",
       "  margin: 1.1em 0em 0.5em;\n",
       "  }\n",
       "\n",
       ".rendered_html h3\n",
       "{\n",
       "  font-size: 100%;\n",
       "  line-height: 1.2;\n",
       "  margin: 1.1em 0em 0.5em;\n",
       "  }\n",
       "\n",
       ".rendered_html li\n",
       "{\n",
       "  line-height: 1.5;\n",
       "  }\n",
       "\n",
       ".input_prompt, .CodeMirror-lines, .output_area\n",
       "{\n",
       "  font-family: Consolas;\n",
       "  font-size: 100%;\n",
       "  }\n",
       "\n",
       ".gap-above\n",
       "{\n",
       "  padding-top: 200px;\n",
       "  }\n",
       "\n",
       ".gap01\n",
       "{\n",
       "  padding-top: 10px;\n",
       "  }\n",
       "\n",
       ".gap05\n",
       "{\n",
       "  padding-top: 50px;\n",
       "  }\n",
       "\n",
       ".gap1\n",
       "{\n",
       "  padding-top: 100px;\n",
       "  }\n",
       "\n",
       ".gap2\n",
       "{\n",
       "  padding-top: 200px;\n",
       "  }\n",
       "\n",
       ".gap3\n",
       "{\n",
       "  padding-top: 300px;\n",
       "  }\n",
       "\n",
       ".emph\n",
       "{\n",
       "  color: #386BBC;\n",
       "  }\n",
       "\n",
       ".warn\n",
       "{\n",
       "  color: red;\n",
       "  }\n",
       "\n",
       ".center\n",
       "{\n",
       "  text-align: center;\n",
       "  }\n",
       "\n",
       ".nb_link\n",
       "{\n",
       "    padding-bottom: 0.5em;\n",
       "}\n",
       "\n",
       "</style>\n"
      ],
      "text/plain": [
       "<IPython.core.display.HTML object>"
      ]
     },
     "metadata": {},
     "output_type": "display_data"
    }
   ],
   "source": [
    "%matplotlib inline\n",
    "import numpy as np\n",
    "import scipy as sp\n",
    "import random\n",
    "from IPython.display import HTML, display\n",
    "%run talktools.py"
   ]
  },
  {
   "cell_type": "code",
   "execution_count": 24,
   "metadata": {
    "button": false,
    "collapsed": false,
    "deletable": true,
    "inputHidden": false,
    "new_sheet": false,
    "outputHidden": false,
    "run_control": {
     "read_only": false
    }
   },
   "outputs": [],
   "source": [
    "def add_python(Z1,Z2):\n",
    "    return [z1+z2 for (z1,z2) in zip(Z1,Z2)]\n",
    "\n",
    "def add_numpy(Z1, Z2):\n",
    "    return np.add(Z1,Z2)"
   ]
  },
  {
   "cell_type": "code",
   "execution_count": null,
   "metadata": {
    "button": false,
    "collapsed": false,
    "deletable": true,
    "inputHidden": false,
    "new_sheet": false,
    "outputHidden": false,
    "run_control": {
     "read_only": false
    }
   },
   "outputs": [],
   "source": [
    "Z2 = random.sample(range(1000), 100)\n",
    "Z1 = random.sample(range(1000), 100)\n",
    "print(add_numpy(Z1,Z2))\n",
    "%timeit(\"add_numpy(Z1,Z2)\",globals())\n"
   ]
  },
  {
   "cell_type": "code",
   "execution_count": 37,
   "metadata": {
    "button": false,
    "collapsed": false,
    "deletable": true,
    "inputHidden": false,
    "new_sheet": false,
    "outputHidden": false,
    "run_control": {
     "read_only": false
    }
   },
   "outputs": [
    {
     "name": "stdout",
     "output_type": "stream",
     "text": [
      "70.4 ns ± 0.737 ns per loop (mean ± std. dev. of 7 runs, 10000000 loops each)\n"
     ]
    }
   ],
   "source": [
    "%timeit(\"add_numpy(Z1,Z2)\",globals())"
   ]
  },
  {
   "cell_type": "markdown",
   "metadata": {
    "button": false,
    "collapsed": false,
    "deletable": true,
    "inputHidden": false,
    "new_sheet": false,
    "outputHidden": false,
    "run_control": {
     "read_only": false
    }
   },
   "source": [
    "Not only is the second approach faster, but it also naturally adapts to the shape of Z1 and Z2. This is the reason why we did not write Z1 + Z2 because it would not work if Z1 and Z2 were both lists. In the first Python method, the inner + is interpreted differently depending on the nature of the two objects such that if we consider two nested lists, we get the following outputs:"
   ]
  },
  {
   "cell_type": "code",
   "execution_count": null,
   "metadata": {
    "button": false,
    "collapsed": false,
    "deletable": true,
    "inputHidden": false,
    "new_sheet": false,
    "outputHidden": false,
    "run_control": {
     "read_only": false
    }
   },
   "outputs": [],
   "source": [
    "Z1 = [[1, 2], [3, 4]]\n",
    "Z2 = [[5, 6], [7, 8]]\n",
    "print(\"Z1+Z2:\", Z1+Z2)\n",
    "print (\"add_python:\", add_python(Z1, Z2))\n",
    "print (\"add_numpy:\", add_numpy(Z1, Z2))"
   ]
  },
  {
   "cell_type": "markdown",
   "metadata": {
    "button": false,
    "collapsed": false,
    "deletable": true,
    "inputHidden": false,
    "new_sheet": false,
    "outputHidden": false,
    "run_control": {
     "read_only": false
    }
   },
   "source": [
    "The first method concatenates the two lists together, the second method concatenates the internal lists together and the last one computes what is (numerically) expected. "
   ]
  },
  {
   "cell_type": "markdown",
   "metadata": {
    "button": false,
    "deletable": true,
    "new_sheet": false,
    "run_control": {
     "read_only": false
    }
   },
   "source": [
    "## 2. Uniform vectorization\n",
    "Uniform vectorization is the simplest form of vectorization where all the elements share the same computation at every time step with no specific processing for any element. One stereotypical case is the Game of Life that has been invented by John Conway (see below) and is one of the earliest examples of cellular automata. Those cellular automata can be conveniently regarded as an array of cells that are connected together with the notion of neighbours and their vectorization is straightforward. Let me first define the game and we'll see how to vectorize it.    "
   ]
  },
  {
   "cell_type": "markdown",
   "metadata": {
    "button": false,
    "deletable": true,
    "new_sheet": false,
    "run_control": {
     "read_only": false
    }
   },
   "source": [
    "<figure>\n",
    "<img  src=http://www.labri.fr/perso/nrougier/from-python-to-numpy/data/Textile-Cone-cropped.jpg>\n",
    "    <figcaption>Conus textile snail exhibits a cellular automaton pattern on its shell. Image by <a href=\"https://commons.wikimedia.org/wiki/File:Textile_cone.JPG\">Richard Ling</a> 2005.</figcaption>\n",
    "</figure>\n",
    "    \n"
   ]
  },
  {
   "cell_type": "markdown",
   "metadata": {
    "button": false,
    "deletable": true,
    "new_sheet": false,
    "run_control": {
     "read_only": false
    }
   },
   "source": [
    "The Game of Life is a cellular automaton. The \"game\" is actually a zero-player game, meaning that its evolution is determined by its initial state, needing no input from human players. One interacts with the Game of Life by creating an initial configuration and observing how it evolves.\n",
    "\n",
    "The universe of the Game of Life is an infinite two-dimensional orthogonal grid of square cells, each of which is in one of two possible states, live or dead. Every cell interacts with its eight neighbours, which are the cells that are directly horizontally, vertically, or diagonally adjacent. At each step in time, the following transitions occur:\n",
    "    \n",
    "    1. Any live cell with fewer than two live neighbours dies, as if by needs caused by underpopulation.\n",
    "    2. Any live cell with more than three live neighbours dies, as if by overcrowding.\n",
    "    3. Any live cell with two or three live neighbours lives, unchanged, to the next generation.\n",
    "    4. Any dead cell with exactly three live neighbours becomes a live cell.\n",
    "    \n",
    "The initial pattern constitutes the 'seed' of the system. The first generation is created by applying the above rules simultaneously to every cell in the seed – births and deaths happen simultaneously, and the discrete moment at which this happens is sometimes called a tick. (In other words, each generation is a pure function of the one before.) The rules continue to be applied repeatedly to create further generations.    "
   ]
  },
  {
   "cell_type": "code",
   "execution_count": null,
   "metadata": {
    "button": false,
    "collapsed": false,
    "deletable": true,
    "new_sheet": false,
    "run_control": {
     "read_only": false
    }
   },
   "outputs": [],
   "source": [
    "# %load 04_vectorization.py\n",
    "#!/usr/bin/env python\n",
    "# @Date    : 2018-01-02 11:17:27\n",
    "# @Author  : Your Name\n",
    "\n",
    "\"\"\"a celluar automation algorithem: the evolution is determined by the initial\n",
    "state, needing no inputs.\n",
    "\n",
    "Any live cell with fewer than two live neighbours dies, as if by needs caused by underpopulation.\n",
    "Any live cell with more than three live neighbours dies, as if by overcrowding.\n",
    "Any live cell with two or three live neighbours lives, unchanged, to the next generation.\n",
    "Any dead cell with exactly three live neighbours becomes a live cell.\n",
    "\"\"\"\n",
    "import numpy as np\n",
    "import os\n",
    "import sys\n",
    "\n",
    "\"\"\"taking the border into account,\n",
    "count the neighbours\n",
    "\"\"\"\n",
    "\n",
    "def compute_neighbours(Z):\n",
    "    shape = (len(Z), len(Z[0]))\n",
    "    N = [[0,]*(shape[0]) for i in range(shape[1])]\n",
    "    for x in range(1, shape[0]-1):\n",
    "        for y in range(1, shape[1]-1):\n",
    "            N[x][y] = Z[x-1][y-1]+Z[x][y-1]+Z[x+1][y-1] \\\n",
    "                    + Z[x-1][y]            +Z[x+1][y]   \\\n",
    "                    + Z[x-1][y+1]+Z[x][y+1]+Z[x+1][y+1]\n",
    "\n",
    "    return N\n",
    "#############################################################\n",
    "\"\"\"\n",
    "count the number of neighbours for each internal cell\"\"\"\n",
    "def iterate(Z):\n",
    "    N=compute_neighbours(Z)\n",
    "    shape = (len(Z), len(Z[0]))\n",
    "    for x in range(1, shape[0]-1):\n",
    "        for y in range(1, shape[1]):\n",
    "            if Z[x][y] == 1 and (N[x][y] < 2 or N[x][y] > 3):\n",
    "                Z[x][y] = 0\n",
    "            elif Z[x][y] == 0 and Z[x][y]==3:\n",
    "                Z[x][y] = 1\n",
    "    return Z\n",
    "\n",
    "###############################################\n",
    "\n",
    "\"\"\"\n",
    "give the value of the running times and print the output\"\"\"\n",
    "\n",
    "def output(Z, times):\n",
    "    for i in range(0, int(times)): print (i+1, iterate(Z))\n",
    "\n",
    "#if __name__ == \"__main__\":\n",
    "  #  times=sys.argv[1]\n",
    "\n",
    "\n",
    "Z = [[0,0,0,0,0,0],\n",
    "     [0,0,0,1,0,0],\n",
    "     [0,1,0,1,0,0],\n",
    "     [0,0,1,1,0,0],\n",
    "     [0,0,0,0,0,0],]\n",
    "\n",
    "output(Z, times=5)"
   ]
  },
  {
   "cell_type": "code",
   "execution_count": null,
   "metadata": {
    "button": false,
    "collapsed": false,
    "deletable": true,
    "inputHidden": false,
    "new_sheet": false,
    "outputHidden": true,
    "run_control": {
     "read_only": false
    }
   },
   "outputs": [],
   "source": [
    "\n",
    "z = np.array([[0,0,0,0,0,0],\n",
    "     [0,0,0,1,0,0],\n",
    "     [0,1,0,1,0,0],\n",
    "     [0,0,1,1,0,0],\n",
    "     [0,0,0,0,0,0],])\n",
    "# Flatten arrays\n",
    "#N=compute_neighbours(z)\n",
    "n = np.zeros(z.shape, dtype=int)\n",
    "\n",
    "n[1:-1,1:-1] += (z[ :-2, :-2] + z[ :-2,1:-1] + z[ :-2,2:] +\n",
    "                 z[1:-1, :-2]                + z[1:-1,2:] +\n",
    "                 z[2:  , :-2] + z[2:  ,1:-1] + z[2:  ,2:])\n",
    "n_ =n.ravel()\n",
    "z_ =z.ravel()\n",
    "# Apply Rules\n",
    "R1=np.argwhere((z_ == 1) &(n_ < 2))\n",
    "R2=np.argwhere((z_ == 1) &(n_ > 3))\n",
    "R3=np.argwhere( (z_ == 1) & ( (n_== 3) | (n_==2) ) )\n",
    "R4=np.argwhere( (z_ == 0) & (n_ == 3) )\n",
    "# Set new values\n",
    "z_[R1] = 0\n",
    "z_[R2] = 0\n",
    "z_[R3] = z_[R3]\n",
    "z_[R4] = 1\n",
    "# Make sure borders stay null\n",
    "z[0,:] = z[-1,:] = z[:,0] = z[:,-1] = 0\n",
    "\n",
    "birth = (n==3)[1:-1,1:-1] & (z[1:-1,1:-1]==0)\n",
    "survive = ((n==2) | (n==3))[1:-1,1:-1] & (z[1:-1,1:-1]==1)\n",
    "z[...] = 0\n",
    "z[1:-1,1:-1][birth | survive] = 1\n",
    "n = np.zeros(z.shape, dtype=int)\n",
    "n[1:-1, 1:-1] += (z[ :-2, :-2] + z[ :-2,1:-1] + z[ :-2,2:] +\n",
    "                            z[1:-1, :-2]                + z[1:-1,2:] +\n",
    "                             z[2:  , :-2] + z[2:  ,1:-1] + z[2:  ,2:])\n",
    "\n"
   ]
  },
  {
   "cell_type": "code",
   "execution_count": 25,
   "metadata": {
    "button": false,
    "collapsed": false,
    "deletable": true,
    "inputHidden": false,
    "new_sheet": false,
    "outputHidden": false,
    "run_control": {
     "read_only": false
    }
   },
   "outputs": [
    {
     "data": {
      "image/png": "[encoded data removed]",
      "text/plain": [
       "<matplotlib.figure.Figure at 0x1122aa400>"
      ]
     },
     "metadata": {},
     "output_type": "display_data"
    }
   ],
   "source": [
    "#import numpy as np\n",
    "import matplotlib.pyplot as plt\n",
    "from matplotlib.animation import FuncAnimation\n",
    "\n",
    "\n",
    "# Parameters from http://www.aliensaint.com/uo/java/rd/\n",
    "# -----------------------------------------------------\n",
    "n = 256\n",
    "Du, Dv, F, k = 0.16, 0.08, 0.035, 0.065  # Bacteria 1\n",
    "# Du, Dv, F, k = 0.14, 0.06, 0.035, 0.065  # Bacteria 2\n",
    "# Du, Dv, F, k = 0.16, 0.08, 0.060, 0.062  # Coral\n",
    "# Du, Dv, F, k = 0.19, 0.05, 0.060, 0.062  # Fingerprint\n",
    "# Du, Dv, F, k = 0.10, 0.10, 0.018, 0.050  # Spirals\n",
    "# Du, Dv, F, k = 0.12, 0.08, 0.020, 0.050  # Spirals Dense\n",
    "# Du, Dv, F, k = 0.10, 0.16, 0.020, 0.050  # Spirals Fast\n",
    "# Du, Dv, F, k = 0.16, 0.08, 0.020, 0.055  # Unstable\n",
    "# Du, Dv, F, k = 0.16, 0.08, 0.050, 0.065  # Worms 1\n",
    "# Du, Dv, F, k = 0.16, 0.08, 0.054, 0.063  # Worms 2\n",
    "# Du, Dv, F, k = 0.16, 0.08, 0.035, 0.060  # Zebrafish\n",
    "\n",
    "Z = np.zeros((n+2, n+2), [('U', np.double),\n",
    "                          ('V', np.double)])\n",
    "U, V = Z['U'], Z['V']\n",
    "u, v = U[1:-1, 1:-1], V[1:-1, 1:-1]\n",
    "\n",
    "r = 20\n",
    "u[...] = 1.0\n",
    "U[n//2-r:n//2+r, n//2-r:n//2+r] = 0.50\n",
    "V[n//2-r:n//2+r, n//2-r:n//2+r] = 0.25\n",
    "u += 0.05*np.random.uniform(-1, +1, (n, n))\n",
    "v += 0.05*np.random.uniform(-1, +1, (n, n))\n",
    "\n",
    "\n",
    "def update(frame):\n",
    "    global U, V, u, v, im\n",
    "\n",
    "    for i in range(10):\n",
    "        Lu = (                  U[0:-2, 1:-1] +\n",
    "              U[1:-1, 0:-2] - 4*U[1:-1, 1:-1] + U[1:-1, 2:] +\n",
    "                                U[2:  , 1:-1])\n",
    "        Lv = (                  V[0:-2, 1:-1] +\n",
    "              V[1:-1, 0:-2] - 4*V[1:-1, 1:-1] + V[1:-1, 2:] +\n",
    "                                V[2:  , 1:-1])\n",
    "        uvv = u*v*v\n",
    "        u += (Du*Lu - uvv + F*(1-u))\n",
    "        v += (Dv*Lv + uvv - (F+k)*v)\n",
    "\n",
    "    im.set_data(V)\n",
    "    im.set_clim(vmin=V.min(), vmax=V.max())\n",
    "\n",
    "fig = plt.figure(figsize=(4, 4))\n",
    "fig.add_axes([0.0, 0.0, 1.0, 1.0], frameon=False)\n",
    "im = plt.imshow(V, interpolation='bicubic', cmap=plt.cm.viridis)\n",
    "plt.xticks([]), plt.yticks([])\n",
    "animation = FuncAnimation(fig, update, interval=10, frames=2000)\n",
    "#animation.save('gray-scott-1.mp4', fps=40, dpi=80, bitrate=-1, codec=\"libx264\",\n",
    "  #              extra_args=['-pix_fmt', 'yuv420p'],\n",
    "    #            metadata={'artist':'Ji Xia'})\n",
    "plt.show()\n"
   ]
  },
  {
   "cell_type": "markdown",
   "metadata": {
    "button": false,
    "collapsed": false,
    "deletable": true,
    "inputHidden": false,
    "new_sheet": false,
    "outputHidden": false,
    "run_control": {
     "read_only": false
    }
   },
   "source": [
    "- [John Conway new solitaire game \"life\"](https://web.archive.org/web/20090603015231/http://ddi.cs.uni-potsdam.de/HyFISCH/Produzieren/lis_projekt/proj_gamelife/ConwayScientificAmerican.htm), Martin Gardner, Scientific American 223, 1970.\n",
    "- [Gray Scott Model of Reaction Diffusion](http://groups.csail.mit.edu/mac/projects/amorphous/GrayScott/), Abelson, Adams, Coore, Hanson, Nagpal, - Sussman, 1997.\n",
    "- [Reaction-Diffusion by the Gray-Scott Model](http://mrob.com/pub/comp/xmorphia/), Robert P. Munafo, 1996."
   ]
  }
 ],
 "metadata": {
  "kernel_info": {
   "name": "python3"
  },
  "kernelspec": {
   "display_name": "Python 3",
   "language": "python",
   "name": "python3"
  },
  "language_info": {
   "codemirror_mode": {
    "name": "ipython",
    "version": 2
   },
   "file_extension": ".py",
   "mimetype": "text/x-python",
   "name": "python",
   "nbconvert_exporter": "python",
   "pygments_lexer": "ipython2",
   "version": "2.7.10"
  },
  "nteract": {
   "version": "0.5.4"
  }
 },
 "nbformat": 4,
 "nbformat_minor": 4
}
