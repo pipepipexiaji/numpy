{
  "cells": [
    {
      "cell_type": "code",
      "source": [],
      "outputs": [],
      "execution_count": null,
      "metadata": {
        "collapsed": false,
        "outputHidden": false,
        "inputHidden": false
      }
    },
    {
      "cell_type": "code",
      "source": [
        "%matplotlib inline\n",
        "import numpy as np\n",
        "import scipy as sp\n",
        "import matplotlib.pyplot as plt\n",
        "#np.array?"
      ],
      "outputs": [],
      "execution_count": 1,
      "metadata": {
        "collapsed": false,
        "outputHidden": false,
        "inputHidden": false,
        "outputExpanded": false
      }
    },
    {
      "cell_type": "markdown",
      "source": [
        "# Indexing\n",
        "---\n",
        "`ndarrays` can be indexed using the standard python `x[obj]` syntax: *x* is the array; *obj*: the selection. There are three kinds of indexing available: field access, basic slicing, advanced indexing. Which one occurs depends on `obj`\n",
        "    \n",
        "<p>\n",
        "In Python, x[(exp1, exp2, ..., expN)] is equivalent to x[exp1, exp2, ..., expN]</p>"
      ],
      "metadata": {
        "collapsed": false,
        "outputHidden": false,
        "inputHidden": false
      }
    },
    {
      "cell_type": "markdown",
      "source": [
        "## Basic Slicing and Indexing\n",
        "Basic slicing extends Python’s basic concept of slicing to N dimensions. Basic slicing occurs when obj is a slice object (constructed by `start:stop:step` notation inside of brackets), an integer, or a tuple of slice objects and integers. `Ellipsis` and `newaxis` objects can be interspersed with these as well. In order to remain backward compatible with a common usage in Numeric, basic slicing is also initiated if the selection object is any non-ndarray sequence (such as a `list`) containing slice objects, the `Ellipsis` object, or the `newaxis` object, but not for integer arrays or other embedded sequences.\n",
        "\n",
        "**syntax**\n",
        "\n",
        "`i:j:k`: `i` is the starting index; `j` is the stopping index; `k` is the step. This selects the `m` elements with the index values: `i, i+k, ... i+(m-1)k`.\n",
        "\n",
        "$i + (m-1)k < j$\n",
        "\n**Example:**"
      ],
      "metadata": {}
    },
    {
      "cell_type": "code",
      "source": [
        "x=np.array([0, 1, 2, 3])\n",
        "x"
      ],
      "outputs": [
        {
          "output_type": "execute_result",
          "execution_count": 6,
          "data": {
            "text/plain": [
              "array([0, 1, 2, 3])"
            ]
          },
          "metadata": {}
        }
      ],
      "execution_count": 6,
      "metadata": {
        "collapsed": false,
        "outputHidden": false,
        "inputHidden": false
      }
    },
    {
      "cell_type": "code",
      "source": [
        "z1=np.arange(64).reshape((8,8)).astype(np.int16)"
      ],
      "outputs": [],
      "execution_count": 14,
      "metadata": {
        "collapsed": false,
        "outputHidden": false,
        "inputHidden": false
      }
    },
    {
      "cell_type": "code",
      "source": [
        "z1"
      ],
      "outputs": [
        {
          "output_type": "execute_result",
          "execution_count": 15,
          "data": {
            "text/plain": [
              "array([[ 0,  1,  2,  3,  4,  5,  6,  7],\n",
              "       [ 8,  9, 10, 11, 12, 13, 14, 15],\n",
              "       [16, 17, 18, 19, 20, 21, 22, 23],\n",
              "       [24, 25, 26, 27, 28, 29, 30, 31],\n",
              "       [32, 33, 34, 35, 36, 37, 38, 39],\n",
              "       [40, 41, 42, 43, 44, 45, 46, 47],\n",
              "       [48, 49, 50, 51, 52, 53, 54, 55],\n",
              "       [56, 57, 58, 59, 60, 61, 62, 63]], dtype=int16)"
            ]
          },
          "metadata": {}
        }
      ],
      "execution_count": 15,
      "metadata": {
        "collapsed": false,
        "outputHidden": false,
        "inputHidden": false
      }
    },
    {
      "cell_type": "code",
      "source": [
        "z1.shape"
      ],
      "outputs": [
        {
          "output_type": "execute_result",
          "execution_count": 16,
          "data": {
            "text/plain": [
              "(8, 8)"
            ]
          },
          "metadata": {}
        }
      ],
      "execution_count": 16,
      "metadata": {
        "collapsed": false,
        "outputHidden": false,
        "inputHidden": false
      }
    },
    {
      "cell_type": "code",
      "source": [
        "z1.ndim"
      ],
      "outputs": [
        {
          "output_type": "execute_result",
          "execution_count": 17,
          "data": {
            "text/plain": [
              "2"
            ]
          },
          "metadata": {}
        }
      ],
      "execution_count": 17,
      "metadata": {
        "collapsed": false,
        "outputHidden": false,
        "inputHidden": false
      }
    },
    {
      "cell_type": "code",
      "source": [
        "z2=z1[:][1:-1:2]"
      ],
      "outputs": [],
      "execution_count": 35,
      "metadata": {
        "collapsed": false,
        "outputHidden": false,
        "inputHidden": false
      }
    },
    {
      "cell_type": "code",
      "source": [
        "z2"
      ],
      "outputs": [
        {
          "output_type": "execute_result",
          "execution_count": 36,
          "data": {
            "text/plain": [
              "array([[ 8,  9, 10, 11, 12, 13, 14, 15],\n",
              "       [24, 25, 26, 27, 28, 29, 30, 31],\n",
              "       [40, 41, 42, 43, 44, 45, 46, 47]], dtype=int16)"
            ]
          },
          "metadata": {}
        }
      ],
      "execution_count": 36,
      "metadata": {
        "collapsed": false,
        "outputHidden": false,
        "inputHidden": false
      }
    },
    {
      "cell_type": "code",
      "source": [
        "print(z2.base is z1)"
      ],
      "outputs": [
        {
          "output_type": "stream",
          "name": "stdout",
          "text": [
            "True\n"
          ]
        }
      ],
      "execution_count": 29,
      "metadata": {
        "collapsed": false,
        "outputHidden": false,
        "inputHidden": false
      }
    },
    {
      "cell_type": "code",
      "source": [
        "# %load find_index.py\n",
        "# -----------------------------------------------------------------------------\n",
        "# From Numpy to Python\n",
        "# -----------------------------------------------------------------------------\n",
        "import numpy as np\n",
        "import matplotlib.pyplot as plt\n",
        "\n\n",
        "def find_index(base, view):\n",
        "    \"\"\"\n",
        "    Given an array that is a `view` of a `base`, find an index such that\n",
        "    `base[index] is view`\n",
        "    \"\"\"\n",
        "\n",
        "    if not isinstance(view, np.ndarray):\n",
        "        return \"...\"\n",
        "\n",
        "    itemsize = view.itemsize\n",
        "    offset_start = (np.byte_bounds(view)[0] - np.byte_bounds(base)[0])//itemsize\n",
        "    offset_stop = (np.byte_bounds(view)[-1] - np.byte_bounds(base)[-1]-1)//itemsize\n",
        "    index_start = np.unravel_index(offset_start, base.shape)\n",
        "    index_stop = np.unravel_index(base.size+offset_stop, base.shape)\n",
        "    index_step  = np.array(view.strides)//np.array(base.strides)\n",
        "\n",
        "    index = \"\"\n",
        "    for i in range(len(index_step)):\n",
        "        start = index_start[i]\n",
        "        stop = index_stop[i]\n",
        "        step = index_step[i]\n",
        "\n",
        "        if stop == start:\n",
        "            stop, step = None, None\n",
        "        else:\n",
        "            if stop == base.shape[i] - 1:\n",
        "                stop = None\n",
        "            else:\n",
        "                stop = stop\n",
        "            if start == 0:\n",
        "                start = None\n",
        "        if step is not None and stop is not None:\n",
        "            if step < 0:\n",
        "                start, stop = stop, start - 1\n",
        "            else:\n",
        "                start, stop = start, stop + 1\n",
        "\n",
        "        if start is not None:\n",
        "            index += str(start)\n",
        "        if stop is not None:\n",
        "            index += \":\" + str(stop)\n",
        "        elif step is not None:\n",
        "            index += \":\"\n",
        "        if step is not None:\n",
        "            index += \":\" + str(step)\n",
        "        index += ','\n",
        "    index = index[:-1]\n",
        "\n",
        "    return index\n",
        "\n\n\n",
        "if __name__ == '__main__':\n",
        "\n",
        "    base = np.arange(8*8).reshape(8,8)\n",
        "\n",
        "    # Sub-array\n",
        "    Z = base[1:-1,1:-1]\n",
        "    index = find_index(base,Z)\n",
        "    print(np.allclose(Z, eval(\"base[%s]\" % index)))\n",
        "\n",
        "    # Every two items\n",
        "    Z = base[::2,::2]\n",
        "    index = find_index(base,Z)\n",
        "    print(np.allclose(Z, eval(\"base[%s]\" % index)))\n",
        "\n",
        "    # First column\n",
        "    Z = base[:,0]\n",
        "    index = find_index(base,Z)\n",
        "    print(np.allclose(Z, eval(\"base[%s]\" % index)))\n",
        "\n",
        "    # First row\n",
        "    Z = base[0,:]\n",
        "    index = find_index(base,Z)\n",
        "    print(np.allclose(Z, eval(\"base[%s]\" % index)))\n",
        "\n",
        "    # Partial reverse\n",
        "    Z = base[4:1:-1,6:2:-1]\n",
        "    index = find_index(base,Z)\n",
        "    print(np.allclose(Z, eval(\"base[%s]\" % index)))\n",
        "\n",
        "    # # Full reverse\n",
        "    Z = base[::-1,::-1]\n",
        "    index = find_index(base,Z)\n",
        "    print(np.allclose(Z, eval(\"base[%s]\" % index)))\n",
        "\n",
        "    # Random\n",
        "    Z = base[1:5:3,3:1:-1]\n",
        "    index = find_index(base,Z)\n",
        "    print(np.allclose(Z, eval(\"base[%s]\" % index)))\n",
        "\n",
        "    print (\"the original array is:\", base[1, 3])\n",
        "    print (\"the new array is: \", Z)\n"
      ],
      "outputs": [
        {
          "output_type": "stream",
          "name": "stdout",
          "text": [
            "True\n",
            "True\n",
            "True\n",
            "True\n",
            "True\n",
            "True\n",
            "True\n",
            "the original array is: 11\n",
            "the new array is:  [[11 10]\n",
            " [35 34]]\n"
          ]
        }
      ],
      "execution_count": 9,
      "metadata": {
        "collapsed": false,
        "outputHidden": true,
        "inputHidden": false
      }
    },
    {
      "cell_type": "code",
      "source": [
        "%pylab inline"
      ],
      "outputs": [
        {
          "output_type": "stream",
          "name": "stdout",
          "text": [
            "Populating the interactive namespace from numpy and matplotlib\n"
          ]
        }
      ],
      "execution_count": 3,
      "metadata": {
        "collapsed": false,
        "outputHidden": false,
        "inputHidden": false
      }
    },
    {
      "cell_type": "code",
      "source": [],
      "outputs": [],
      "execution_count": null,
      "metadata": {
        "collapsed": false,
        "outputHidden": false,
        "inputHidden": false
      }
    }
  ],
  "metadata": {
    "kernelspec": {
      "name": "python3",
      "language": "python",
      "display_name": "Python 3"
    },
    "kernel_info": {
      "name": "python3"
    },
    "language_info": {
      "name": "python",
      "version": "3.6.3",
      "mimetype": "text/x-python",
      "codemirror_mode": {
        "name": "ipython",
        "version": 3
      },
      "pygments_lexer": "ipython3",
      "nbconvert_exporter": "python",
      "file_extension": ".py"
    },
    "nteract": {
      "version": "0.5.4"
    }
  },
  "nbformat": 4,
  "nbformat_minor": 4
}