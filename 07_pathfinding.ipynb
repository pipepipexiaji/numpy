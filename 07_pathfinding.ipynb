{
 "cells": [
  {
   "cell_type": "code",
   "execution_count": 1,
   "metadata": {
    "button": false,
    "collapsed": false,
    "deletable": true,
    "inputHidden": false,
    "new_sheet": false,
    "outputHidden": false,
    "run_control": {
     "read_only": false
    }
   },
   "outputs": [
    {
     "data": {
      "text/html": [
       "<style>\n",
       "\n",
       ".rendered_html\n",
       "{\n",
       "  color: #2C5494;\n",
       "  font-family: Lato;\n",
       "  font-size: 100%;\n",
       "  line-height: 1.1;\n",
       "  margin: 0.5em 0;\n",
       "  }\n",
       "\n",
       ".title\n",
       "{\n",
       "  color: #498AF3;\n",
       "  font-size: 200%;\n",
       "  font-weight:bold;\n",
       "  line-height: 1.2;\n",
       "  margin: 5px 20px 5px;\n",
       "  }\n",
       "\n",
       ".subtitle\n",
       "{\n",
       "  color: #386BBC;\n",
       "  font-size: 150%;\n",
       "  font-weight:bold;\n",
       "  line-height: 1.2;\n",
       "  margin: 5px 20px 5px;\n",
       "  }\n",
       "\n",
       ".slide-header, p.slide-header\n",
       "{\n",
       "  color: #498AF3;\n",
       "  font-size: 2800%;\n",
       "  font-weight:bold;\n",
       "  margin: 0px 10px 5px;\n",
       "  page-break-before: always;\n",
       "  text-align: center;\n",
       "  }\n",
       "\n",
       ".rendered_html h1\n",
       "{\n",
       "  color: #498AF3;\n",
       "  line-height: 1.2;\n",
       "  margin: 0.15em 0em 0.5em;\n",
       "  page-break-before: always;\n",
       "  text-align: center;\n",
       "  }\n",
       "\n",
       "\n",
       ".rendered_html h2\n",
       "{\n",
       "  color: #386BBC;\n",
       "  line-height: 1.2;\n",
       "  margin: 1.1em 0em 0.5em;\n",
       "  }\n",
       "\n",
       ".rendered_html h3\n",
       "{\n",
       "  font-size: 100%;\n",
       "  line-height: 1.2;\n",
       "  margin: 1.1em 0em 0.5em;\n",
       "  }\n",
       "\n",
       ".rendered_html li\n",
       "{\n",
       "  line-height: 1.0;\n",
       "  }\n",
       "\n",
       ".input_prompt, .CodeMirror-lines, .output_area\n",
       "{\n",
       "  font-family: Consolas;\n",
       "  font-size: 100%;\n",
       "  }\n",
       "\n",
       ".gap-above\n",
       "{\n",
       "  padding-top: 100px;\n",
       "  }\n",
       "\n",
       ".gap01\n",
       "{\n",
       "  padding-top: 5px;\n",
       "  }\n",
       "\n",
       ".gap05\n",
       "{\n",
       "  padding-top: 20px;\n",
       "  }\n",
       "\n",
       ".gap1\n",
       "{\n",
       "  padding-top: 50px;\n",
       "  }\n",
       "\n",
       ".gap2\n",
       "{\n",
       "  padding-top: 100px;\n",
       "  }\n",
       "\n",
       ".gap3\n",
       "{\n",
       "  padding-top: 100px;\n",
       "  }\n",
       "\n",
       ".emph\n",
       "{\n",
       "  color: #386BBC;\n",
       "  }\n",
       "\n",
       ".warn\n",
       "{\n",
       "  color: red;\n",
       "  }\n",
       "\n",
       ".center\n",
       "{\n",
       "  text-align: center;\n",
       "  }\n",
       "\n",
       ".nb_link\n",
       "{\n",
       "    padding-bottom: 0.5em;\n",
       "}\n",
       "\n",
       "</style>\n"
      ],
      "text/plain": [
       "<IPython.core.display.HTML object>"
      ]
     },
     "metadata": {},
     "output_type": "display_data"
    }
   ],
   "source": [
    "%matplotlib inline\n",
    "%run talktools.py"
   ]
  },
  {
   "cell_type": "markdown",
   "metadata": {
    "button": false,
    "collapsed": false,
    "deletable": true,
    "inputHidden": false,
    "new_sheet": false,
    "outputHidden": false,
    "run_control": {
     "read_only": false
    }
   },
   "source": [
    "# Introduction\n",
    "### A demo to illustrate how to use different algorithm to solve a problem.\n",
    "The following codes aim to compute the sum of `x[i] *y[j]` for all pairs of indices i, j. A simple method is written as:\n",
    "<li><A name=\"py1\">python method ↓</A></li>"
   ]
  },
  {
   "cell_type": "code",
   "execution_count": 2,
   "metadata": {
    "button": false,
    "collapsed": false,
    "deletable": true,
    "inputHidden": false,
    "new_sheet": false,
    "outputHidden": false,
    "run_control": {
     "read_only": false
    }
   },
   "outputs": [
    {
     "name": "stdout",
     "output_type": "stream",
     "text": [
      "100000000 loops, best of 3: 8.79 ns per loop\n"
     ]
    }
   ],
   "source": [
    "def compute_sum(x, y):\n",
    "    total = 0\n",
    "    for i in range(len(x)):\n",
    "        for j in range(len(y)):\n",
    "            total += x[i] * y[j]\n",
    "    return total\n",
    "# ______________________________\n",
    "x=np.arange(1000)\n",
    "%timeit(\"compute_python(x, x)\")"
   ]
  },
  {
   "cell_type": "markdown",
   "metadata": {
    "button": false,
    "collapsed": false,
    "deletable": true,
    "inputHidden": false,
    "new_sheet": false,
    "outputHidden": false,
    "run_control": {
     "read_only": false
    }
   },
   "source": [
    "- A more faster way is to exploit **Numpy broadcasting** by first reshaping the two vectors so that `z[i] = x[i] * y[i]` to fasten the speed. For this example we will have:\n",
    "    `z[i,j] == x[i,0]*y[0,j]` "
   ]
  },
  {
   "cell_type": "code",
   "execution_count": 3,
   "metadata": {
    "button": false,
    "collapsed": false,
    "deletable": true,
    "inputHidden": false,
    "new_sheet": false,
    "outputHidden": false,
    "run_control": {
     "read_only": false
    }
   },
   "outputs": [
    {
     "name": "stdout",
     "output_type": "stream",
     "text": [
      "100000000 loops, best of 3: 9.09 ns per loop\n"
     ]
    }
   ],
   "source": [
    "def compute_numpy(x, y):\n",
    "    Z = X.reshape(len(X),1) * Y.reshape(1,len(Y))\n",
    "    return Z.sum()\n",
    "#______________________\n",
    "x = np.arange(1000)\n",
    "%timeit(\"compute_python(x, x)\")"
   ]
  },
  {
   "cell_type": "markdown",
   "metadata": {
    "button": false,
    "collapsed": false,
    "deletable": true,
    "inputHidden": false,
    "new_sheet": false,
    "outputHidden": false,
    "run_control": {
     "read_only": false
    }
   },
   "source": [
    "- A third **faster** way relies on the fact that: \n",
    "        the inner loop is using `x[ i ]` that does not depend on the `j` index, meaning it can be removed from the inner loop."
   ]
  },
  {
   "cell_type": "code",
   "execution_count": 4,
   "metadata": {
    "button": false,
    "collapsed": false,
    "deletable": true,
    "inputHidden": false,
    "new_sheet": false,
    "outputHidden": false,
    "run_control": {
     "read_only": false
    }
   },
   "outputs": [
    {
     "name": "stdout",
     "output_type": "stream",
     "text": [
      "100000000 loops, best of 3: 8.41 ns per loop\n"
     ]
    }
   ],
   "source": [
    "def compute_numpy_better_1(x, y):\n",
    "    result = 0\n",
    "    for i in range(len(x)):\n",
    "        Ysum = 0\n",
    "        for j in range(len(y)):\n",
    "            Ysum += y[j]\n",
    "        result += y[i]*Ysum\n",
    "    return result\n",
    "x=np.arange(1000)\n",
    "%timeit(\"compute_numpy_better_1(x, x)\")"
   ]
  },
  {
   "cell_type": "markdown",
   "metadata": {
    "button": false,
    "deletable": true,
    "new_sheet": false,
    "run_control": {
     "read_only": false
    }
   },
   "source": [
    "- Moreover, since the inner loop does not depend on the i index, we might as well compute it only once:"
   ]
  },
  {
   "cell_type": "code",
   "execution_count": 5,
   "metadata": {
    "button": false,
    "collapsed": false,
    "deletable": true,
    "inputHidden": false,
    "new_sheet": false,
    "outputHidden": false,
    "run_control": {
     "read_only": false
    }
   },
   "outputs": [
    {
     "name": "stdout",
     "output_type": "stream",
     "text": [
      "100000000 loops, best of 3: 8.52 ns per loop\n"
     ]
    }
   ],
   "source": [
    "def compute_numpy_better_2(x, y):\n",
    "    result = 0\n",
    "    ysum=0\n",
    "    for j in range(len(y)):\n",
    "        ysum += y[j]\n",
    "    for i in range(len(x)):\n",
    "        result += x[i]*Ysum\n",
    "    return result\n",
    "x = np.arange(1000)\n",
    "%timeit(\"compute_numpy_better_2(x, x)\")"
   ]
  },
  {
   "cell_type": "markdown",
   "metadata": {
    "button": false,
    "collapsed": false,
    "deletable": true,
    "inputHidden": false,
    "new_sheet": false,
    "outputHidden": false,
    "run_control": {
     "read_only": false
    }
   },
   "source": [
    "- Removing the inner loop transforms a $O(n^2)$ complexity into $O(n)$ complexity. Using the same approach, we can now write:"
   ]
  },
  {
   "cell_type": "code",
   "execution_count": 6,
   "metadata": {
    "button": false,
    "collapsed": false,
    "deletable": true,
    "new_sheet": false,
    "run_control": {
     "read_only": false
    }
   },
   "outputs": [
    {
     "name": "stdout",
     "output_type": "stream",
     "text": [
      "100000000 loops, best of 3: 9.15 ns per loop\n"
     ]
    }
   ],
   "source": [
    "def compute_numpy_better_3(x, y):\n",
    "    Ysum = 0\n",
    "    for j in range(len(y)):\n",
    "        Ysum += y[j]\n",
    "    Xsum = 0\n",
    "    for i in range(len(x)):\n",
    "        Xsum += x[i]\n",
    "    return Xsum*Ysum\n",
    "\n",
    "x=np.arange(1000)\n",
    "%timeit(\"compute_numpy_better_3(x, x)\")"
   ]
  },
  {
   "cell_type": "markdown",
   "metadata": {
    "button": false,
    "deletable": true,
    "new_sheet": false,
    "run_control": {
     "read_only": false
    }
   },
   "source": [
    "- Use the `np.sum` way:"
   ]
  },
  {
   "cell_type": "code",
   "execution_count": 7,
   "metadata": {
    "button": false,
    "collapsed": false,
    "deletable": true,
    "new_sheet": false,
    "run_control": {
     "read_only": false
    }
   },
   "outputs": [
    {
     "name": "stdout",
     "output_type": "stream",
     "text": [
      "100000000 loops, best of 3: 9.31 ns per loop\n"
     ]
    }
   ],
   "source": [
    "def compute_numpy_better(x, y):\n",
    "    return np.sum(y) * np.sum(x)\n",
    "x = np.arange(1000)\n",
    "%timeit(\"compute_numpy_better(x, x)\")"
   ]
  },
  {
   "cell_type": "markdown",
   "metadata": {
    "button": false,
    "deletable": true,
    "new_sheet": false,
    "run_control": {
     "read_only": false
    }
   },
   "source": [
    "### Conclusion\n",
    "1. The mathematical rule that $\\sum_{ij}X_iY_j=\\sum_iX_i\\sum_jY_j$ enables us to reformulate the above vectors.\n",
    "2. There are two kinds of vectorization: [code vectorization](https://shrtm.nu/sJWR) and problem vectorization.\n",
    "3. The efficiency of problem vectorization largely depends on code vectorization.\n",
    "    Another improvement in the <A href=\"#py1\">1st python method</A> for the above problem:"
   ]
  },
  {
   "cell_type": "code",
   "execution_count": 8,
   "metadata": {
    "button": false,
    "collapsed": false,
    "deletable": true,
    "new_sheet": false,
    "run_control": {
     "read_only": false
    }
   },
   "outputs": [
    {
     "name": "stdout",
     "output_type": "stream",
     "text": [
      "100000000 loops, best of 3: 8.95 ns per loop\n"
     ]
    }
   ],
   "source": [
    "def compute_python_better(x, y):\n",
    "    return sum(x)*sum(y)\n",
    "x = np.arange(1000)\n",
    "%timeit(\"compute_python_better(x,x)\")"
   ]
  },
  {
   "cell_type": "code",
   "execution_count": null,
   "metadata": {
    "button": false,
    "collapsed": true,
    "deletable": true,
    "new_sheet": false,
    "run_control": {
     "read_only": false
    }
   },
   "outputs": [],
   "source": []
  }
 ],
 "metadata": {
  "kernel_info": {
   "name": "python3"
  },
  "kernelspec": {
   "display_name": "Python 3",
   "language": "python",
   "name": "python3"
  },
  "language_info": {
   "codemirror_mode": {
    "name": "ipython",
    "version": 2
   },
   "file_extension": ".py",
   "mimetype": "text/x-python",
   "name": "python",
   "nbconvert_exporter": "python",
   "pygments_lexer": "ipython2",
   "version": "2.7.10"
  },
  "nteract": {
   "version": "0.5.5"
  }
 },
 "nbformat": 4,
 "nbformat_minor": 4
}
