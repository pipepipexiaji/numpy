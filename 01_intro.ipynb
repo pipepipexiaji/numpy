{
 "cells": [
  {
   "cell_type": "code",
   "execution_count": 2,
   "metadata": {
    "button": false,
    "collapsed": false,
    "deletable": true,
    "inputHidden": false,
    "new_sheet": false,
    "outputHidden": false,
    "run_control": {
     "read_only": false
    }
   },
   "outputs": [
    {
     "name": "stdout",
     "output_type": "stream",
     "text": [
      "913 µs ± 326 µs per loop (mean ± std. dev. of 7 runs, 1 loop each)\n"
     ]
    }
   ],
   "source": [
    "%%timeit\n",
    "%matplotlib inline"
   ]
  },
  {
   "cell_type": "code",
   "execution_count": 3,
   "metadata": {
    "button": false,
    "collapsed": true,
    "deletable": true,
    "new_sheet": false,
    "run_control": {
     "read_only": false
    }
   },
   "outputs": [],
   "source": [
    "import numpy as np\n",
    "import scipy as sp\n",
    "import matplotlib.pyplot as plt"
   ]
  },
  {
   "cell_type": "markdown",
   "metadata": {
    "button": false,
    "collapsed": false,
    "deletable": true,
    "inputHidden": false,
    "new_sheet": false,
    "outputHidden": false,
    "run_control": {
     "read_only": false
    }
   },
   "source": [
    "## Introduction\n",
    "---\n",
    "### 1. Simple example:\n",
    "\n",
    "**Key words**:\n",
    "- `vectors`\n",
    "- `arrays`\n",
    "- `views`\n",
    "- `ufuncs`\n",
    "\n",
    "The below is a simple example, `random walk`. A possible **object** oriented approach to define a RandomWalker class and write a walk **method** that would return the current position after each (random) step. \n",
    "\n",
    "**Object oriented approach**"
   ]
  },
  {
   "cell_type": "code",
   "execution_count": 7,
   "metadata": {
    "button": false,
    "collapsed": false,
    "deletable": true,
    "inputHidden": false,
    "new_sheet": false,
    "outputHidden": false,
    "run_control": {
     "read_only": false
    }
   },
   "outputs": [
    {
     "name": "stdout",
     "output_type": "stream",
     "text": [
      "65.1 ns ± 0.93 ns per loop (mean ± std. dev. of 7 runs, 10000000 loops each)\n"
     ]
    }
   ],
   "source": [
    "# Object oriented approach\n",
    "class RandomWalker:\n",
    "    def __init__(self):\n",
    "        self.position = 0\n",
    "        \n",
    "    def walk(self, n):\n",
    "        self.position = 0\n",
    "        for i in range(n):\n",
    "            yield self.position\n",
    "            self.position += 2*np.random.randint(0, 1) - 1\n",
    "            \n",
    "walker = RandomWalker()\n",
    "walk = [position for position in walker.walk(10000)]\n",
    "%timeit(\"[position for position in walker.walk(n=10000)]\", globals())"
   ]
  },
  {
   "cell_type": "code",
   "execution_count": 20,
   "metadata": {
    "button": false,
    "collapsed": false,
    "deletable": true,
    "inputHidden": false,
    "new_sheet": false,
    "outputHidden": false,
    "run_control": {
     "read_only": false
    }
   },
   "outputs": [
    {
     "data": {
      "text/plain": [
       "-1000"
      ]
     },
     "execution_count": 20,
     "metadata": {},
     "output_type": "execute_result"
    }
   ],
   "source": [
    "walker.position"
   ]
  },
  {
   "cell_type": "markdown",
   "metadata": {
    "button": false,
    "collapsed": false,
    "deletable": true,
    "inputHidden": false,
    "new_sheet": false,
    "outputHidden": false,
    "run_control": {
     "read_only": false
    }
   },
   "source": [
    "---"
   ]
  },
  {
   "cell_type": "markdown",
   "metadata": {
    "button": false,
    "deletable": true,
    "new_sheet": false,
    "run_control": {
     "read_only": false
    }
   },
   "source": [
    "**Procedual Approach**\n",
    "\n",
    "we can probably save the class definition and concentrate only on the walk method that computes successive positions after each random step."
   ]
  },
  {
   "cell_type": "code",
   "execution_count": 9,
   "metadata": {
    "button": false,
    "collapsed": false,
    "deletable": true,
    "inputHidden": false,
    "new_sheet": false,
    "outputHidden": false,
    "run_control": {
     "read_only": false
    }
   },
   "outputs": [
    {
     "name": "stdout",
     "output_type": "stream",
     "text": [
      "65.2 ns ± 1.53 ns per loop (mean ± std. dev. of 7 runs, 10000000 loops each)\n"
     ]
    }
   ],
   "source": [
    "def random_walk(n):\n",
    "    position = 0\n",
    "    walk = [position]\n",
    "    for i in range(n):\n",
    "        position += 2*np.random.randint(0, 1) - 1\n",
    "        walk.append(position)\n",
    "    return walk\n",
    "\n",
    "random_walk(10000)\n",
    "%timeit(\"random_walk(n=10000)\", globals())"
   ]
  },
  {
   "cell_type": "markdown",
   "metadata": {
    "button": false,
    "collapsed": false,
    "deletable": true,
    "inputHidden": false,
    "new_sheet": false,
    "outputHidden": false,
    "run_control": {
     "read_only": false
    }
   },
   "source": [
    "This new method saves some CPU cycles but not that much because this function is pretty much the same as in the object-oriented approach and the few cycles we saved probably come from the inner Python object-oriented machinery."
   ]
  },
  {
   "cell_type": "markdown",
   "metadata": {
    "button": false,
    "deletable": true,
    "new_sheet": false,
    "run_control": {
     "read_only": false
    }
   },
   "source": [
    "**Vectorized approach**\n",
    "\n",
    "But we can do better using the `itertools` Python module that offers a set of *functions creating iterators for efficient looping*. If we observe that a random walk is an accumulation of steps, we can rewrite the function by first generating all the steps and accumulate them without any loop:"
   ]
  },
  {
   "cell_type": "code",
   "execution_count": 15,
   "metadata": {
    "button": false,
    "collapsed": false,
    "deletable": true,
    "inputHidden": false,
    "new_sheet": false,
    "outputHidden": false,
    "run_control": {
     "read_only": false
    }
   },
   "outputs": [
    {
     "name": "stdout",
     "output_type": "stream",
     "text": [
      "65.2 ns ± 0.642 ns per loop (mean ± std. dev. of 7 runs, 10000000 loops each)\n"
     ]
    }
   ],
   "source": [
    "def random_walk_faster(n=10000):\n",
    "    from itertools import accumulate\n",
    "    # only available from Pythonn 3.6\n",
    "    steps = np.random.choice([-1, +1], n)\n",
    "    return [0] + list(accumulate(steps))\n",
    "walk = random_walk_faster(10000)\n",
    "%timeit(\"random_walk_faster(n=10000)\", globals())"
   ]
  },
  {
   "cell_type": "code",
   "execution_count": 16,
   "metadata": {
    "button": false,
    "collapsed": false,
    "deletable": true,
    "inputHidden": false,
    "new_sheet": false,
    "outputHidden": false,
    "run_control": {
     "read_only": false
    }
   },
   "outputs": [],
   "source": [
    "np.random.choice?"
   ]
  },
  {
   "cell_type": "code",
   "execution_count": 18,
   "metadata": {
    "button": false,
    "collapsed": false,
    "deletable": true,
    "inputHidden": false,
    "new_sheet": false,
    "outputHidden": false,
    "run_control": {
     "read_only": false
    }
   },
   "outputs": [
    {
     "name": "stdout",
     "output_type": "stream",
     "text": [
      "65 ns ± 1.51 ns per loop (mean ± std. dev. of 7 runs, 10000000 loops each)\n"
     ]
    }
   ],
   "source": [
    "def random_walk_faster2(n=1000):\n",
    "    steps = np.random.choice([-1,1], n)\n",
    "    return np.cumsum(steps)\n",
    "#walk=random_walk_faster2(1000)\n",
    "%timeit(\"random_walk_fastest(n=10000)\", globals())"
   ]
  },
  {
   "cell_type": "markdown",
   "metadata": {
    "button": false,
    "collapsed": false,
    "deletable": true,
    "inputHidden": false,
    "new_sheet": false,
    "outputHidden": false,
    "run_control": {
     "read_only": false
    }
   },
   "source": [
    "In the above function `random_walk_faster2`, We just have to translate `itertools` call into NumPy ones.\n",
    "The series of notebooks is about vectorization, be it at the code or problem level. This difference is important before looking at custom vectorization."
   ]
  },
  {
   "cell_type": "markdown",
   "metadata": {
    "button": false,
    "deletable": true,
    "new_sheet": false,
    "run_control": {
     "read_only": false
    }
   },
   "source": [
    "## 2. Anatomy of an array\n",
    "### 2.1 Memory layout\n",
    "\n",
    "**Definition** of the `ndarray` class in NumPy:\n",
    "\n",
    "An array is mostly a contiguous block of memory whose parts can be accessed using an indexing scheme. Such indexing scheme is in turn defined by a *shape* and a *data type* and this is precisely what is needed when you define a new array:"
   ]
  },
  {
   "cell_type": "code",
   "execution_count": 1,
   "metadata": {
    "button": false,
    "collapsed": false,
    "deletable": true,
    "inputHidden": false,
    "new_sheet": false,
    "outputHidden": false,
    "run_control": {
     "read_only": false
    }
   },
   "outputs": [],
   "source": [
    "%matplotlib inline\n",
    "import numpy as np\n",
    "import scipy as sp"
   ]
  },
  {
   "cell_type": "code",
   "execution_count": 2,
   "metadata": {
    "button": false,
    "collapsed": false,
    "deletable": true,
    "inputHidden": false,
    "new_sheet": false,
    "outputHidden": false,
    "run_control": {
     "read_only": false
    }
   },
   "outputs": [
    {
     "data": {
      "text/plain": [
       "array([[0, 1, 2],\n",
       "       [3, 4, 5],\n",
       "       [6, 7, 8]], dtype=int16)"
      ]
     },
     "execution_count": 2,
     "metadata": {},
     "output_type": "execute_result"
    }
   ],
   "source": [
    "z = np.arange(9).reshape(3,3).astype(np.int16)\n",
    "z"
   ]
  },
  {
   "cell_type": "code",
   "execution_count": 5,
   "metadata": {
    "button": false,
    "collapsed": false,
    "deletable": true,
    "inputHidden": false,
    "new_sheet": false,
    "outputHidden": false,
    "run_control": {
     "read_only": false
    }
   },
   "outputs": [
    {
     "data": {
      "text/plain": [
       "2"
      ]
     },
     "execution_count": 5,
     "metadata": {},
     "output_type": "execute_result"
    }
   ],
   "source": [
    "z.itemsize ##2 bytes(int16)"
   ]
  },
  {
   "cell_type": "code",
   "execution_count": 6,
   "metadata": {
    "button": false,
    "collapsed": false,
    "deletable": true,
    "inputHidden": false,
    "new_sheet": false,
    "outputHidden": false,
    "run_control": {
     "read_only": false
    }
   },
   "outputs": [
    {
     "data": {
      "text/plain": [
       "(3, 3)"
      ]
     },
     "execution_count": 6,
     "metadata": {},
     "output_type": "execute_result"
    }
   ],
   "source": [
    "z.shape"
   ]
  },
  {
   "cell_type": "code",
   "execution_count": 7,
   "metadata": {
    "button": false,
    "collapsed": false,
    "deletable": true,
    "inputHidden": false,
    "new_sheet": false,
    "outputHidden": false,
    "run_control": {
     "read_only": false
    }
   },
   "outputs": [
    {
     "data": {
      "text/plain": [
       "2"
      ]
     },
     "execution_count": 7,
     "metadata": {},
     "output_type": "execute_result"
    }
   ],
   "source": [
    "z.ndim # the number of dimension"
   ]
  },
  {
   "cell_type": "markdown",
   "metadata": {
    "button": false,
    "collapsed": false,
    "deletable": true,
    "inputHidden": false,
    "new_sheet": false,
    "outputHidden": false,
    "run_control": {
     "read_only": false
    }
   },
   "source": [
    "Since `z` is not a view, we can deduce the [strides](https://docs.scipy.org/doc/numpy/reference/generated/numpy.ndarray.strides.html#numpy.ndarray.strides) of the array that define the number of bytes to step in each dimension when traversing the array:"
   ]
  },
  {
   "cell_type": "code",
   "execution_count": 3,
   "metadata": {
    "button": false,
    "collapsed": false,
    "deletable": true,
    "new_sheet": false,
    "run_control": {
     "read_only": false
    }
   },
   "outputs": [
    {
     "name": "stdout",
     "output_type": "stream",
     "text": [
      "(6, 2)\n"
     ]
    }
   ],
   "source": [
    "strides = z.shape[1]*z.itemsize, z.itemsize\n",
    "print(strides)"
   ]
  },
  {
   "cell_type": "code",
   "execution_count": 4,
   "metadata": {
    "button": false,
    "collapsed": false,
    "deletable": true,
    "inputHidden": false,
    "new_sheet": false,
    "outputHidden": false,
    "run_control": {
     "read_only": false
    }
   },
   "outputs": [
    {
     "name": "stdout",
     "output_type": "stream",
     "text": [
      "(6, 2)\n"
     ]
    }
   ],
   "source": [
    "print(z.strides)"
   ]
  },
  {
   "cell_type": "markdown",
   "metadata": {
    "button": false,
    "collapsed": false,
    "deletable": true,
    "inputHidden": false,
    "new_sheet": false,
    "outputHidden": false,
    "run_control": {
     "read_only": false
    }
   },
   "source": [
    "With all these information, we know how to access a specific item (designed by an index tuple) and more precisely, how to compute the start and end offsets:\n",
    "```\n",
    "offset_start = 0\n",
    "for i in range(ndim):\n",
    "    offset_start += strides[i]*index[i]\n",
    "offset_end = offset_start + z.itemsize\n",
    "```"
   ]
  },
  {
   "cell_type": "code",
   "execution_count": 5,
   "metadata": {
    "button": false,
    "collapsed": false,
    "deletable": true,
    "inputHidden": false,
    "new_sheet": false,
    "outputHidden": false,
    "run_control": {
     "read_only": false
    }
   },
   "outputs": [
    {
     "name": "stdout",
     "output_type": "stream",
     "text": [
      "b'\\x04\\x00'\n"
     ]
    }
   ],
   "source": [
    " # test the above method:\n",
    "z=np.arange(9).reshape(3,3).astype(np.int16)\n",
    "index = 1,1\n",
    "print(z[index].tobytes())"
   ]
  },
  {
   "cell_type": "code",
   "execution_count": 11,
   "metadata": {
    "button": false,
    "collapsed": false,
    "deletable": true,
    "inputHidden": false,
    "new_sheet": false,
    "outputHidden": false,
    "run_control": {
     "read_only": false
    }
   },
   "outputs": [
    {
     "name": "stdout",
     "output_type": "stream",
     "text": [
      "8\n"
     ]
    }
   ],
   "source": [
    "offset = 0\n",
    "for i in range(z.ndim):\n",
    "    offset += z.strides[i]*index[i]\n",
    "print(offset)"
   ]
  },
  {
   "cell_type": "code",
   "execution_count": 1,
   "metadata": {
    "button": false,
    "collapsed": false,
    "deletable": true,
    "new_sheet": false,
    "outputExpanded": true,
    "run_control": {
     "read_only": false
    }
   },
   "outputs": [
    {
     "data": {
      "text/html": [
       "<?xml version=\"1.0\" encoding=\"utf-8\" ?>\n",
       "<!DOCTYPE html PUBLIC \"-//W3C//DTD XHTML 1.0 Transitional//EN\" \"http://www.w3.org/TR/xhtml1/DTD/xhtml1-transitional.dtd\">\n",
       "<html xmlns=\"http://www.w3.org/1999/xhtml\" xml:lang=\"en\" lang=\"en\">\n",
       "<head>\n",
       "<meta http-equiv=\"Content-Type\" content=\"text/html; charset=utf-8\" />\n",
       "<meta name=\"generator\" content=\"Docutils 0.14: http://docutils.sourceforge.net/\" />\n",
       "<title>Anatomy of an array</title>\n",
       "<link rel=\"stylesheet\" href=\"book.css\" type=\"text/css\" />\n",
       "</head>\n",
       "<body>\n",
       "<div class=\"document\" id=\"anatomy-of-an-array\">\n",
       "<h1 class=\"title\">Anatomy of an array</h1>\n",
       "\n",
       "<div class=\"contents local topic\" id=\"contents\">\n",
       "<p class=\"topic-title first\"><strong>Contents</strong></p>\n",
       "<ul class=\"simple\">\n",
       "<li><a class=\"reference internal\" href=\"#views-and-copies\" id=\"id1\">Views and copies</a><ul>\n",
       "<li><a class=\"reference internal\" href=\"#direct-and-indirect-access\" id=\"id2\">Direct and indirect access</a></li>\n",
       "<li><a class=\"reference internal\" href=\"#temporary-copy\" id=\"id3\">Temporary copy</a></li>\n",
       "</ul>\n",
       "</li>\n",
       "<li><a class=\"reference internal\" href=\"#conclusion\" id=\"id4\">Conclusion</a></li>\n",
       "</ul>\n",
       "</div>\n",
       "<p>This array can be actually considered from different perspectives (i.e. layouts):</p>\n",
       "<p><strong>Item layout</strong></p>\n",
       "<pre class=\"code output literal-block\">\n",
       "               shape[1]\n",
       "                 (=3)\n",
       "            ┌───────────┐\n",
       "\n",
       "         ┌  ┌───┬───┬───┐  ┐\n",
       "         │  │ 0 │ 1 │ 2 │  │\n",
       "         │  ├───┼───┼───┤  │\n",
       "shape[0] │  │ 3 │ 4 │ 5 │  │ len(Z)\n",
       " (=3)    │  ├───┼───┼───┤  │  (=3)\n",
       "         │  │ 6 │ 7 │ 8 │  │\n",
       "         └  └───┴───┴───┘  ┘\n",
       "</pre>\n",
       "<p><strong>Flattened item layout</strong></p>\n",
       "<pre class=\"code output literal-block\">\n",
       "┌───┬───┬───┬───┬───┬───┬───┬───┬───┐\n",
       "│ 0 │ 1 │ 2 │ 3 │ 4 │ 5 │ 6 │ 7 │ 8 │\n",
       "└───┴───┴───┴───┴───┴───┴───┴───┴───┘\n",
       "\n",
       "└───────────────────────────────────┘\n",
       "               Z.size\n",
       "                (=9)\n",
       "</pre>\n",
       "<p><strong>Memory layout (C order, big endian)</strong></p>\n",
       "<pre class=\"code output literal-block\">\n",
       "                         strides[1]\n",
       "                           (=2)\n",
       "                  ┌─────────────────────┐\n",
       "\n",
       "          ┌       ┌──────────┬──────────┐ ┐\n",
       "          │ p+00: │ 00000000 │ 00000000 │ │\n",
       "          │       ├──────────┼──────────┤ │\n",
       "          │ p+02: │ 00000000 │ 00000001 │ │ strides[0]\n",
       "          │       ├──────────┼──────────┤ │   (=2x3)\n",
       "          │ p+04  │ 00000000 │ 00000010 │ │\n",
       "          │       ├──────────┼──────────┤ ┘\n",
       "          │ p+06  │ 00000000 │ 00000011 │\n",
       "          │       ├──────────┼──────────┤\n",
       "Z.nbytes  │ p+08: │ 00000000 │ 00000100 │\n",
       "(=3x3x2)  │       ├──────────┼──────────┤\n",
       "          │ p+10: │ 00000000 │ 00000101 │\n",
       "          │       ├──────────┼──────────┤\n",
       "          │ p+12: │ 00000000 │ 00000110 │\n",
       "          │       ├──────────┼──────────┤\n",
       "          │ p+14: │ 00000000 │ 00000111 │\n",
       "          │       ├──────────┼──────────┤\n",
       "          │ p+16: │ 00000000 │ 00001000 │\n",
       "          └       └──────────┴──────────┘\n",
       "\n",
       "                  └─────────────────────┘\n",
       "                        Z.itemsize\n",
       "                     Z.dtype.itemsize\n",
       "                           (=2)\n",
       "</pre>\n",
       "<p>If we now take a slice of <cite>Z</cite>, the result is a view of the base array <cite>Z</cite>:</p>\n",
       "<pre class=\"code python literal-block\">\n",
       "<span class=\"name\">V</span> <span class=\"operator\">=</span> <span class=\"name\">Z</span><span class=\"punctuation\">[::</span><span class=\"literal number integer\">2</span><span class=\"punctuation\">,::</span><span class=\"literal number integer\">2</span><span class=\"punctuation\">]</span>\n",
       "</pre>\n",
       "<p>Such view is specified using a shape, a dtype <strong>and</strong> strides because strides\n",
       "cannot be deduced anymore from the dtype and shape only:</p>\n",
       "<p><strong>Item layout</strong></p>\n",
       "<pre class=\"code output literal-block\">\n",
       "               shape[1]\n",
       "                 (=2)\n",
       "            ┌───────────┐\n",
       "\n",
       "         ┌  ┌───┬╌╌╌┬───┐  ┐\n",
       "         │  │ 0 │   │ 2 │  │            ┌───┬───┐\n",
       "         │  ├───┼╌╌╌┼───┤  │            │ 0 │ 2 │\n",
       "shape[0] │  ╎   ╎   ╎   ╎  │ len(Z)  →  ├───┼───┤\n",
       " (=2)    │  ├───┼╌╌╌┼───┤  │  (=2)      │ 6 │ 8 │\n",
       "         │  │ 6 │   │ 8 │  │            └───┴───┘\n",
       "         └  └───┴╌╌╌┴───┘  ┘\n",
       "</pre>\n",
       "<p><strong>Flattened item layout</strong></p>\n",
       "<pre class=\"code output literal-block\">\n",
       "┌───┬╌╌╌┬───┬╌╌╌┬╌╌╌┬╌╌╌┬───┬╌╌╌┬───┐       ┌───┬───┬───┬───┐\n",
       "│ 0 │   │ 2 │   ╎   ╎   │ 6 │   │ 8 │   →   │ 0 │ 2 │ 6 │ 8 │\n",
       "└───┴╌╌╌┴───┴╌╌╌┴╌╌╌┴╌╌╌┴───┴╌╌╌┴───┘       └───┴───┴───┴───┘\n",
       "└─┬─┘   └─┬─┘           └─┬─┘   └─┬─┘\n",
       "  └───┬───┘               └───┬───┘\n",
       "      └───────────┬───────────┘\n",
       "               Z.size\n",
       "                (=4)\n",
       "</pre>\n",
       "<p><strong>Memory layout (C order, big endian)</strong></p>\n",
       "<pre class=\"code output literal-block\">\n",
       "              ┌        ┌──────────┬──────────┐ ┐             ┐\n",
       "            ┌─┤  p+00: │ 00000000 │ 00000000 │ │             │\n",
       "            │ └        ├──────────┼──────────┤ │ strides[1]  │\n",
       "          ┌─┤    p+02: │          │          │ │   (=4)      │\n",
       "          │ │ ┌        ├──────────┼──────────┤ ┘             │\n",
       "          │ └─┤  p+04  │ 00000000 │ 00000010 │               │\n",
       "          │   └        ├──────────┼──────────┤               │ strides[0]\n",
       "          │      p+06: │          │          │               │   (=12)\n",
       "          │            ├──────────┼──────────┤               │\n",
       "Z.nbytes ─┤      p+08: │          │          │               │\n",
       "  (=8)    │            ├──────────┼──────────┤               │\n",
       "          │      p+10: │          │          │               │\n",
       "          │   ┌        ├──────────┼──────────┤               ┘\n",
       "          │ ┌─┤  p+12: │ 00000000 │ 00000110 │\n",
       "          │ │ └        ├──────────┼──────────┤\n",
       "          └─┤    p+14: │          │          │\n",
       "            │ ┌        ├──────────┼──────────┤\n",
       "            └─┤  p+16: │ 00000000 │ 00001000 │\n",
       "              └        └──────────┴──────────┘\n",
       "\n",
       "                       └─────────────────────┘\n",
       "                             Z.itemsize\n",
       "                          Z.dtype.itemsize\n",
       "                                (=2)\n",
       "</pre>\n",
       "<div class=\"section\" id=\"views-and-copies\">\n",
       "<h1><a class=\"toc-backref\" href=\"#id1\">Views and copies</a></h1>\n",
       "<p>Views and copies are important concepts for the optimization of your numerical\n",
       "computations. Even if we've already manipulated them in the previous section,\n",
       "the whole story is a bit more complex.</p>\n",
       "<div class=\"section\" id=\"direct-and-indirect-access\">\n",
       "<h2><a class=\"toc-backref\" href=\"#id2\">Direct and indirect access</a></h2>\n",
       "<p>First, we have to distinguish between <a class=\"reference external\" href=\"https://docs.scipy.org/doc/numpy/user/basics.indexing.html#\">indexing</a> and <a class=\"reference external\" href=\"https://docs.scipy.org/doc/numpy/reference/arrays.indexing.html#advanced-indexing\">fancy\n",
       "indexing</a>. The first will always return a view while the second will return a\n",
       "copy. This difference is important because in the first case, modifying the view\n",
       "modifies the base array while this is not true in the second case:</p>\n",
       "<pre class=\"code pycon literal-block\">\n",
       "<span class=\"name\"></span><span class=\"generic prompt\">&gt;&gt;&gt; </span><span class=\"name\">Z</span> <span class=\"operator\">=</span> <span class=\"name\">np</span><span class=\"operator\">.</span><span class=\"name\">zeros</span><span class=\"punctuation\">(</span><span class=\"literal number integer\">9</span><span class=\"punctuation\">)</span>\n",
       "<span class=\"generic prompt\">&gt;&gt;&gt; </span><span class=\"name\">Z_view</span> <span class=\"operator\">=</span> <span class=\"name\">Z</span><span class=\"punctuation\">[:</span><span class=\"literal number integer\">3</span><span class=\"punctuation\">]</span>\n",
       "<span class=\"generic prompt\">&gt;&gt;&gt; </span><span class=\"name\">Z_view</span><span class=\"punctuation\">[</span><span class=\"operator\">...</span><span class=\"punctuation\">]</span> <span class=\"operator\">=</span> <span class=\"literal number integer\">1</span>\n",
       "<span class=\"generic prompt\">&gt;&gt;&gt; </span><span class=\"keyword\">print</span><span class=\"punctuation\">(</span><span class=\"name\">Z</span><span class=\"punctuation\">)</span>\n",
       "<span class=\"generic output\">[ 1.  1.  1.  0.  0.  0.  0.  0.  0.]\n",
       "</span><span class=\"name\"></span><span class=\"generic prompt\">&gt;&gt;&gt; </span><span class=\"name\">Z</span> <span class=\"operator\">=</span> <span class=\"name\">np</span><span class=\"operator\">.</span><span class=\"name\">zeros</span><span class=\"punctuation\">(</span><span class=\"literal number integer\">9</span><span class=\"punctuation\">)</span>\n",
       "<span class=\"generic prompt\">&gt;&gt;&gt; </span><span class=\"name\">Z_copy</span> <span class=\"operator\">=</span> <span class=\"name\">Z</span><span class=\"punctuation\">[[</span><span class=\"literal number integer\">0</span><span class=\"punctuation\">,</span><span class=\"literal number integer\">1</span><span class=\"punctuation\">,</span><span class=\"literal number integer\">2</span><span class=\"punctuation\">]]</span>\n",
       "<span class=\"generic prompt\">&gt;&gt;&gt; </span><span class=\"name\">Z_copy</span><span class=\"punctuation\">[</span><span class=\"operator\">...</span><span class=\"punctuation\">]</span> <span class=\"operator\">=</span> <span class=\"literal number integer\">1</span>\n",
       "<span class=\"generic prompt\">&gt;&gt;&gt; </span><span class=\"keyword\">print</span><span class=\"punctuation\">(</span><span class=\"name\">Z</span><span class=\"punctuation\">)</span>\n",
       "<span class=\"generic output\">[ 0.  0.  0.  0.  0.  0.  0.  0.  0.]</span>\n",
       "</pre>\n",
       "<p>Thus, if you need fancy indexing, it's better to keep a copy of your fancy index\n",
       "(especially if it was complex to compute it) and to work with it:</p>\n",
       "<pre class=\"code pycon literal-block\">\n",
       "<span class=\"name\"></span><span class=\"generic prompt\">&gt;&gt;&gt; </span><span class=\"name\">Z</span> <span class=\"operator\">=</span> <span class=\"name\">np</span><span class=\"operator\">.</span><span class=\"name\">zeros</span><span class=\"punctuation\">(</span><span class=\"literal number integer\">9</span><span class=\"punctuation\">)</span>\n",
       "<span class=\"generic prompt\">&gt;&gt;&gt; </span><span class=\"name\">index</span> <span class=\"operator\">=</span> <span class=\"punctuation\">[</span><span class=\"literal number integer\">0</span><span class=\"punctuation\">,</span><span class=\"literal number integer\">1</span><span class=\"punctuation\">,</span><span class=\"literal number integer\">2</span><span class=\"punctuation\">]</span>\n",
       "<span class=\"generic prompt\">&gt;&gt;&gt; </span><span class=\"name\">Z</span><span class=\"punctuation\">[</span><span class=\"name\">index</span><span class=\"punctuation\">]</span> <span class=\"operator\">=</span> <span class=\"literal number integer\">1</span>\n",
       "<span class=\"generic prompt\">&gt;&gt;&gt; </span><span class=\"keyword\">print</span><span class=\"punctuation\">(</span><span class=\"name\">Z</span><span class=\"punctuation\">)</span>\n",
       "<span class=\"generic output\">[ 1.  1.  1.  0.  0.  0.  0.  0.  0.]</span>\n",
       "</pre>\n",
       "<p>If you are unsure if the result of your indexing is a view or a copy, you can\n",
       "check what is the <cite>base</cite> of your result. If it is <cite>None</cite>, then you result is a\n",
       "copy:</p>\n",
       "<pre class=\"code pycon literal-block\">\n",
       "<span class=\"name\"></span><span class=\"generic prompt\">&gt;&gt;&gt; </span><span class=\"name\">Z</span> <span class=\"operator\">=</span> <span class=\"name\">np</span><span class=\"operator\">.</span><span class=\"name\">random</span><span class=\"operator\">.</span><span class=\"name\">uniform</span><span class=\"punctuation\">(</span><span class=\"literal number integer\">0</span><span class=\"punctuation\">,</span><span class=\"literal number integer\">1</span><span class=\"punctuation\">,(</span><span class=\"literal number integer\">5</span><span class=\"punctuation\">,</span><span class=\"literal number integer\">5</span><span class=\"punctuation\">))</span>\n",
       "<span class=\"generic prompt\">&gt;&gt;&gt; </span><span class=\"name\">Z1</span> <span class=\"operator\">=</span> <span class=\"name\">Z</span><span class=\"punctuation\">[:</span><span class=\"literal number integer\">3</span><span class=\"punctuation\">,:]</span>\n",
       "<span class=\"generic prompt\">&gt;&gt;&gt; </span><span class=\"name\">Z2</span> <span class=\"operator\">=</span> <span class=\"name\">Z</span><span class=\"punctuation\">[[</span><span class=\"literal number integer\">0</span><span class=\"punctuation\">,</span><span class=\"literal number integer\">1</span><span class=\"punctuation\">,</span><span class=\"literal number integer\">2</span><span class=\"punctuation\">],</span> <span class=\"punctuation\">:]</span>\n",
       "<span class=\"generic prompt\">&gt;&gt;&gt; </span><span class=\"keyword\">print</span><span class=\"punctuation\">(</span><span class=\"name\">np</span><span class=\"operator\">.</span><span class=\"name\">allclose</span><span class=\"punctuation\">(</span><span class=\"name\">Z1</span><span class=\"punctuation\">,</span><span class=\"name\">Z2</span><span class=\"punctuation\">))</span>\n",
       "<span class=\"generic output\">True\n",
       "</span><span class=\"keyword\"></span><span class=\"generic prompt\">&gt;&gt;&gt; </span><span class=\"keyword\">print</span><span class=\"punctuation\">(</span><span class=\"name\">Z1</span><span class=\"operator\">.</span><span class=\"name\">base</span> <span class=\"operator word\">is</span> <span class=\"name\">Z</span><span class=\"punctuation\">)</span>\n",
       "<span class=\"generic output\">True\n",
       "</span><span class=\"keyword\"></span><span class=\"generic prompt\">&gt;&gt;&gt; </span><span class=\"keyword\">print</span><span class=\"punctuation\">(</span><span class=\"name\">Z2</span><span class=\"operator\">.</span><span class=\"name\">base</span> <span class=\"operator word\">is</span> <span class=\"name\">Z</span><span class=\"punctuation\">)</span>\n",
       "<span class=\"generic output\">False\n",
       "</span><span class=\"keyword\"></span><span class=\"generic prompt\">&gt;&gt;&gt; </span><span class=\"keyword\">print</span><span class=\"punctuation\">(</span><span class=\"name\">Z2</span><span class=\"operator\">.</span><span class=\"name\">base</span> <span class=\"operator word\">is</span> <span class=\"name builtin pseudo\">None</span><span class=\"punctuation\">)</span>\n",
       "<span class=\"generic output\">True</span>\n",
       "</pre>\n",
       "<p>Note that some NumPy functions return a view when possible (e.g. <a class=\"reference external\" href=\"https://docs.scipy.org/doc/numpy/reference/generated/numpy.ravel.html\">ravel</a>)\n",
       "while some others always return a copy (e.g. <a class=\"reference external\" href=\"https://docs.scipy.org/doc/numpy/reference/generated/numpy.ndarray.flatten.html#numpy.ndarray.flatten\">flatten</a>):</p>\n",
       "<pre class=\"code pycon literal-block\">\n",
       "<span class=\"name\"></span><span class=\"generic prompt\">&gt;&gt;&gt; </span><span class=\"name\">Z</span> <span class=\"operator\">=</span> <span class=\"name\">np</span><span class=\"operator\">.</span><span class=\"name\">zeros</span><span class=\"punctuation\">((</span><span class=\"literal number integer\">5</span><span class=\"punctuation\">,</span><span class=\"literal number integer\">5</span><span class=\"punctuation\">))</span>\n",
       "<span class=\"generic prompt\">&gt;&gt;&gt; </span><span class=\"name\">Z</span><span class=\"operator\">.</span><span class=\"name\">ravel</span><span class=\"punctuation\">()</span><span class=\"operator\">.</span><span class=\"name\">base</span> <span class=\"operator word\">is</span> <span class=\"name\">Z</span>\n",
       "<span class=\"generic output\">True\n",
       "</span><span class=\"name\"></span><span class=\"generic prompt\">&gt;&gt;&gt; </span><span class=\"name\">Z</span><span class=\"punctuation\">[::</span><span class=\"literal number integer\">2</span><span class=\"punctuation\">,::</span><span class=\"literal number integer\">2</span><span class=\"punctuation\">]</span><span class=\"operator\">.</span><span class=\"name\">ravel</span><span class=\"punctuation\">()</span><span class=\"operator\">.</span><span class=\"name\">base</span> <span class=\"operator word\">is</span> <span class=\"name\">Z</span>\n",
       "<span class=\"generic output\">False\n",
       "</span><span class=\"name\"></span><span class=\"generic prompt\">&gt;&gt;&gt; </span><span class=\"name\">Z</span><span class=\"operator\">.</span><span class=\"name\">flatten</span><span class=\"punctuation\">()</span><span class=\"operator\">.</span><span class=\"name\">base</span> <span class=\"operator word\">is</span> <span class=\"name\">Z</span>\n",
       "<span class=\"generic output\">False</span>\n",
       "</pre>\n",
       "</div>\n",
       "<div class=\"section\" id=\"temporary-copy\">\n",
       "<h2><a class=\"toc-backref\" href=\"#id3\">Temporary copy</a></h2>\n",
       "<p>Copies can be made explicitly like in the previous section, but the most\n",
       "general case is the implicit creation of intermediate copies. This is the case\n",
       "when you are doing some arithmetic with arrays:</p>\n",
       "<pre class=\"code pycon literal-block\">\n",
       "<span class=\"name\"></span><span class=\"generic prompt\">&gt;&gt;&gt; </span><span class=\"name\">X</span> <span class=\"operator\">=</span> <span class=\"name\">np</span><span class=\"operator\">.</span><span class=\"name\">ones</span><span class=\"punctuation\">(</span><span class=\"literal number integer\">10</span><span class=\"punctuation\">,</span> <span class=\"name\">dtype</span><span class=\"operator\">=</span><span class=\"name\">np</span><span class=\"operator\">.</span><span class=\"name\">int</span><span class=\"punctuation\">)</span>\n",
       "<span class=\"generic prompt\">&gt;&gt;&gt; </span><span class=\"name\">Y</span> <span class=\"operator\">=</span> <span class=\"name\">np</span><span class=\"operator\">.</span><span class=\"name\">ones</span><span class=\"punctuation\">(</span><span class=\"literal number integer\">10</span><span class=\"punctuation\">,</span> <span class=\"name\">dtype</span><span class=\"operator\">=</span><span class=\"name\">np</span><span class=\"operator\">.</span><span class=\"name\">int</span><span class=\"punctuation\">)</span>\n",
       "<span class=\"generic prompt\">&gt;&gt;&gt; </span><span class=\"name\">A</span> <span class=\"operator\">=</span> <span class=\"literal number integer\">2</span><span class=\"operator\">*</span><span class=\"name\">X</span> <span class=\"operator\">+</span> <span class=\"literal number integer\">2</span><span class=\"operator\">*</span><span class=\"name\">Y</span>\n",
       "</pre>\n",
       "<p>In the example above, three intermediate arrays have been created. One for\n",
       "holding the result of <cite>2*X</cite>, one for holding the result of <cite>2*Y</cite> and the last\n",
       "one for holding the result of <cite>2*X+2*Y</cite>. In this specific case, the arrays are\n",
       "small enough and this does not really make a difference. However, if your\n",
       "arrays are big, then you have to be careful with such expressions and wonder if\n",
       "you can do it differently. For example, if only the final result matters and\n",
       "you don't need <cite>X</cite> nor <cite>Y</cite> afterwards, an alternate solution would be:</p>\n",
       "<pre class=\"code pycon literal-block\">\n",
       "<span class=\"name\"></span><span class=\"generic prompt\">&gt;&gt;&gt; </span><span class=\"name\">X</span> <span class=\"operator\">=</span> <span class=\"name\">np</span><span class=\"operator\">.</span><span class=\"name\">ones</span><span class=\"punctuation\">(</span><span class=\"literal number integer\">10</span><span class=\"punctuation\">,</span> <span class=\"name\">dtype</span><span class=\"operator\">=</span><span class=\"name\">np</span><span class=\"operator\">.</span><span class=\"name\">int</span><span class=\"punctuation\">)</span>\n",
       "<span class=\"generic prompt\">&gt;&gt;&gt; </span><span class=\"name\">Y</span> <span class=\"operator\">=</span> <span class=\"name\">np</span><span class=\"operator\">.</span><span class=\"name\">ones</span><span class=\"punctuation\">(</span><span class=\"literal number integer\">10</span><span class=\"punctuation\">,</span> <span class=\"name\">dtype</span><span class=\"operator\">=</span><span class=\"name\">np</span><span class=\"operator\">.</span><span class=\"name\">int</span><span class=\"punctuation\">)</span>\n",
       "<span class=\"generic prompt\">&gt;&gt;&gt; </span><span class=\"name\">np</span><span class=\"operator\">.</span><span class=\"name\">multiply</span><span class=\"punctuation\">(</span><span class=\"name\">X</span><span class=\"punctuation\">,</span> <span class=\"literal number integer\">2</span><span class=\"punctuation\">,</span> <span class=\"name\">out</span><span class=\"operator\">=</span><span class=\"name\">X</span><span class=\"punctuation\">)</span>\n",
       "<span class=\"generic prompt\">&gt;&gt;&gt; </span><span class=\"name\">np</span><span class=\"operator\">.</span><span class=\"name\">multiply</span><span class=\"punctuation\">(</span><span class=\"name\">Y</span><span class=\"punctuation\">,</span> <span class=\"literal number integer\">2</span><span class=\"punctuation\">,</span> <span class=\"name\">out</span><span class=\"operator\">=</span><span class=\"name\">Y</span><span class=\"punctuation\">)</span>\n",
       "<span class=\"generic prompt\">&gt;&gt;&gt; </span><span class=\"name\">np</span><span class=\"operator\">.</span><span class=\"name\">add</span><span class=\"punctuation\">(</span><span class=\"name\">X</span><span class=\"punctuation\">,</span> <span class=\"name\">Y</span><span class=\"punctuation\">,</span> <span class=\"name\">out</span><span class=\"operator\">=</span><span class=\"name\">X</span><span class=\"punctuation\">)</span>\n",
       "</pre>\n",
       "<p>Using this alternate solution, no temporary array has been created. Problem is\n",
       "that there are many other cases where such copies needs to be created and this\n",
       "impact the performance like demonstrated on the example below:</p>\n",
       "<pre class=\"code pycon literal-block\">\n",
       "<span class=\"name\"></span><span class=\"generic prompt\">&gt;&gt;&gt; </span><span class=\"name\">X</span> <span class=\"operator\">=</span> <span class=\"name\">np</span><span class=\"operator\">.</span><span class=\"name\">ones</span><span class=\"punctuation\">(</span><span class=\"literal number integer\">1000000000</span><span class=\"punctuation\">,</span> <span class=\"name\">dtype</span><span class=\"operator\">=</span><span class=\"name\">np</span><span class=\"operator\">.</span><span class=\"name\">int</span><span class=\"punctuation\">)</span>\n",
       "<span class=\"generic prompt\">&gt;&gt;&gt; </span><span class=\"name\">Y</span> <span class=\"operator\">=</span> <span class=\"name\">np</span><span class=\"operator\">.</span><span class=\"name\">ones</span><span class=\"punctuation\">(</span><span class=\"literal number integer\">1000000000</span><span class=\"punctuation\">,</span> <span class=\"name\">dtype</span><span class=\"operator\">=</span><span class=\"name\">np</span><span class=\"operator\">.</span><span class=\"name\">int</span><span class=\"punctuation\">)</span>\n",
       "<span class=\"generic prompt\">&gt;&gt;&gt; </span><span class=\"name\">timeit</span><span class=\"punctuation\">(</span><span class=\"literal string double\">&quot;X = X + 2.0*Y&quot;</span><span class=\"punctuation\">,</span> <span class=\"name builtin\">globals</span><span class=\"punctuation\">())</span>\n",
       "<span class=\"generic output\">100 loops, best of 3: 3.61 ms per loop\n",
       "</span><span class=\"name\"></span><span class=\"generic prompt\">&gt;&gt;&gt; </span><span class=\"name\">timeit</span><span class=\"punctuation\">(</span><span class=\"literal string double\">&quot;X = X + 2*Y&quot;</span><span class=\"punctuation\">,</span> <span class=\"name builtin\">globals</span><span class=\"punctuation\">())</span>\n",
       "<span class=\"generic output\">100 loops, best of 3: 3.47 ms per loop\n",
       "</span><span class=\"name\"></span><span class=\"generic prompt\">&gt;&gt;&gt; </span><span class=\"name\">timeit</span><span class=\"punctuation\">(</span><span class=\"literal string double\">&quot;X += 2*Y&quot;</span><span class=\"punctuation\">,</span> <span class=\"name builtin\">globals</span><span class=\"punctuation\">())</span>\n",
       "<span class=\"generic output\">100 loops, best of 3: 2.79 ms per loop\n",
       "</span><span class=\"name\"></span><span class=\"generic prompt\">&gt;&gt;&gt; </span><span class=\"name\">timeit</span><span class=\"punctuation\">(</span><span class=\"literal string double\">&quot;np.add(X, Y, out=X); np.add(X, Y, out=X)&quot;</span><span class=\"punctuation\">,</span> <span class=\"name builtin\">globals</span><span class=\"punctuation\">())</span>\n",
       "<span class=\"generic output\">1000 loops, best of 3: 1.57 ms per loop</span>\n",
       "</pre>\n",
       "</div>\n",
       "</div>\n",
       "<div class=\"section\" id=\"conclusion\">\n",
       "<h1><a class=\"toc-backref\" href=\"#id4\">Conclusion</a></h1>\n",
       "<p>As a conclusion, we'll make an exercise. Given two vectors <cite>Z1</cite> and <cite>Z2</cite>. We\n",
       "would like to know if <cite>Z2</cite> is a view of <cite>Z1</cite> and if yes, what is this view ?</p>\n",
       "<pre class=\"code literal-block\">\n",
       "&gt;&gt;&gt; Z1 = np.arange(10)\n",
       "&gt;&gt;&gt; Z2 = Z1[1:-1:2]\n",
       "</pre>\n",
       "<pre class=\"code output literal-block\">\n",
       "   ╌╌╌┬───┬───┬───┬───┬───┬───┬───┬───┬───┬───┬╌╌\n",
       "Z1    │ 0 │ 1 │ 2 │ 3 │ 4 │ 5 │ 6 │ 7 │ 8 │ 9 │\n",
       "   ╌╌╌┴───┴───┴───┴───┴───┴───┴───┴───┴───┴───┴╌╌\n",
       "   ╌╌╌╌╌╌╌┬───┬╌╌╌┬───┬╌╌╌┬───┬╌╌╌┬───┬╌╌╌╌╌╌╌╌╌╌\n",
       "Z2        │ 1 │   │ 3 │   │ 5 │   │ 7 │\n",
       "   ╌╌╌╌╌╌╌┴───┴╌╌╌┴───┴╌╌╌┴───┴╌╌╌┴───┴╌╌╌╌╌╌╌╌╌╌\n",
       "</pre>\n",
       "<p>First, we need to check if <cite>Z1</cite> is the base of <cite>Z2</cite></p>\n",
       "<pre class=\"code literal-block\">\n",
       "&gt;&gt;&gt; print(Z2.base is Z1)\n",
       "True\n",
       "</pre>\n",
       "<p>At this point, we know <cite>Z2</cite> is a view of <cite>Z1</cite>, meaning <cite>Z2</cite> can be expressed as\n",
       "<cite>Z1[start:stop:step]</cite>. The difficulty is to find <cite>start</cite>, <cite>stop</cite> and\n",
       "<cite>step</cite>.  For the <cite>step</cite>, we can use the <cite>strides</cite> property of any array that\n",
       "gives the number of bytes to go from one element to the other in each\n",
       "dimension. In our case, and because both arrays are one-dimensional, we can\n",
       "directly compare the first stride only:</p>\n",
       "<pre class=\"code literal-block\">\n",
       "&gt;&gt;&gt; step = Z2.strides[0] // Z1.strides[0]\n",
       "&gt;&gt;&gt; print(step)\n",
       "2\n",
       "</pre>\n",
       "<p>Next difficulty is to find the <cite>start</cite> and the <cite>stop</cite> indices. To do this, we\n",
       "can take advantage of the <cite>byte_bounds</cite> method that returns a pointer to the\n",
       "end-points of an array.</p>\n",
       "<pre class=\"code output literal-block\">\n",
       "  byte_bounds(Z1)[0]                  byte_bounds(Z1)[-1]\n",
       "          ↓                                   ↓\n",
       "   ╌╌╌┬───┬───┬───┬───┬───┬───┬───┬───┬───┬───┬╌╌\n",
       "Z1    │ 0 │ 1 │ 2 │ 3 │ 4 │ 5 │ 6 │ 7 │ 8 │ 9 │\n",
       "   ╌╌╌┴───┴───┴───┴───┴───┴───┴───┴───┴───┴───┴╌╌\n",
       "\n",
       "      byte_bounds(Z2)[0]      byte_bounds(Z2)[-1]\n",
       "              ↓                       ↓\n",
       "   ╌╌╌╌╌╌╌┬───┬╌╌╌┬───┬╌╌╌┬───┬╌╌╌┬───┬╌╌╌╌╌╌╌╌╌╌\n",
       "Z2        │ 1 │   │ 3 │   │ 5 │   │ 7 │\n",
       "   ╌╌╌╌╌╌╌┴───┴╌╌╌┴───┴╌╌╌┴───┴╌╌╌┴───┴╌╌╌╌╌╌╌╌╌╌\n",
       "</pre>\n",
       "<pre class=\"code literal-block\">\n",
       "&gt;&gt;&gt; offset_start = np.byte_bounds(Z2)[0] - np.byte_bounds(Z1)[0]\n",
       "&gt;&gt;&gt; print(offset_start) # bytes\n",
       "8\n",
       "\n",
       "&gt;&gt;&gt; offset_stop = np.byte_bounds(Z2)[-1] - np.byte_bounds(Z1)[-1]\n",
       "&gt;&gt;&gt; print(offset_stop) # bytes\n",
       "-16\n",
       "</pre>\n",
       "<p>Converting these offsets into indices is straightforward using the <cite>itemsize</cite>\n",
       "and taking into account that the <cite>offset_stop</cite> is negative (end-bound of <cite>Z2</cite>\n",
       "is logically smaller than end-bound of <cite>Z1</cite> array). We thus need to add the\n",
       "items size of Z1 to get the right end index.</p>\n",
       "<pre class=\"code literal-block\">\n",
       "&gt;&gt;&gt; start = offset_start // Z1.itemsize\n",
       "&gt;&gt;&gt; stop = Z1.size + offset_stop // Z1.itemsize\n",
       "&gt;&gt;&gt; print(start, stop, step)\n",
       "1, 8, 2\n",
       "</pre>\n",
       "<p>Last we test our results:</p>\n",
       "<pre class=\"code literal-block\">\n",
       "&gt;&gt;&gt; print(np.allclose(Z1[start:stop:step], Z2))\n",
       "True\n",
       "</pre>\n",
       "<p>As an exercise, you can improve this first and very simple implementation by\n",
       "taking into account:</p>\n",
       "<ul class=\"simple\">\n",
       "<li>Negative steps</li>\n",
       "<li>Multi-dimensional arrays</li>\n",
       "</ul>\n",
       "<p><a class=\"reference external\" href=\"code/find_index.py\">Solution</a> to the exercise.</p>\n",
       "</div>\n",
       "</div>\n",
       "</body>\n",
       "</html>\n"
      ],
      "text/plain": [
       "<IPython.core.display.HTML object>"
      ]
     },
     "execution_count": 1,
     "metadata": {},
     "output_type": "execute_result"
    }
   ],
   "source": [
    "from IPython.display import HTML\n",
    "HTML(filename=\"03-anatomy.html\")"
   ]
  },
  {
   "cell_type": "code",
   "execution_count": null,
   "metadata": {
    "button": false,
    "collapsed": false,
    "deletable": true,
    "inputHidden": false,
    "new_sheet": false,
    "outputHidden": false,
    "run_control": {
     "read_only": false
    }
   },
   "outputs": [],
   "source": []
  }
 ],
 "metadata": {
  "kernel_info": {
   "name": "python3"
  },
  "kernelspec": {
   "display_name": "Python 3",
   "language": "python",
   "name": "python3"
  },
  "language_info": {
   "codemirror_mode": {
    "name": "ipython",
    "version": 2
   },
   "file_extension": ".py",
   "mimetype": "text/x-python",
   "name": "python",
   "nbconvert_exporter": "python",
   "pygments_lexer": "ipython2",
   "version": "2.7.10"
  },
  "nteract": {
   "version": "0.5.4"
  }
 },
 "nbformat": 4,
 "nbformat_minor": 4
}
